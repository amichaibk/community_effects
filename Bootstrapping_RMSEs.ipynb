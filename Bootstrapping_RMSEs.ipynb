{
 "cells": [
  {
   "cell_type": "markdown",
   "id": "0d98eb21",
   "metadata": {
    "id": "0d98eb21"
   },
   "source": [
    "# Setup\n",
    "## Import Libraries"
   ]
  },
  {
   "cell_type": "code",
   "execution_count": 1,
   "id": "6158c26e",
   "metadata": {
    "ExecuteTime": {
     "end_time": "2022-09-06T19:40:06.357221Z",
     "start_time": "2022-09-06T19:40:04.825320Z"
    },
    "colab": {
     "base_uri": "https://localhost:8080/"
    },
    "executionInfo": {
     "elapsed": 366,
     "status": "ok",
     "timestamp": 1661339299204,
     "user": {
      "displayName": "Amichai Baichman-Ka",
      "userId": "16914562961023845270"
     },
     "user_tz": -180
    },
    "id": "6158c26e",
    "outputId": "5235f36c-a2ce-4153-df9a-b41e0b031d56"
   },
   "outputs": [
    {
     "name": "stdout",
     "output_type": "stream",
     "text": [
      "Populating the interactive namespace from numpy and matplotlib\n"
     ]
    }
   ],
   "source": [
    "%pylab inline\n",
    "import scipy as sp\n",
    "import numpy as np\n",
    "import pandas as pd\n",
    "import seaborn as sns\n",
    "import matplotlib as mpl\n",
    "import matplotlib.pyplot as plt\n",
    "import matplotlib.lines as mlines\n",
    "import matplotlib.colors as mcolors\n",
    "from matplotlib.colors import LogNorm, Normalize\n",
    "from mpl_toolkits import mplot3d\n",
    "from sklearn.metrics import mean_squared_error\n",
    "from statannot import add_stat_annotation\n",
    "\n",
    "import warnings\n",
    "import itertools\n"
   ]
  },
  {
   "cell_type": "markdown",
   "id": "5ac4ac1c",
   "metadata": {
    "id": "5ac4ac1c"
   },
   "source": [
    "# K2: singles and pair effect experiment"
   ]
  },
  {
   "cell_type": "markdown",
   "id": "c7a1f66c",
   "metadata": {
    "id": "c7a1f66c"
   },
   "source": [
    "## Setup\n"
   ]
  },
  {
   "cell_type": "markdown",
   "id": "6185e9ba",
   "metadata": {
    "id": "6185e9ba"
   },
   "source": [
    "### Create lists of sample types for later use  "
   ]
  },
  {
   "cell_type": "code",
   "execution_count": 2,
   "id": "7989b84a",
   "metadata": {
    "ExecuteTime": {
     "end_time": "2022-09-06T19:40:06.372767Z",
     "start_time": "2022-09-06T19:40:06.357221Z"
    },
    "executionInfo": {
     "elapsed": 4,
     "status": "ok",
     "timestamp": 1661339303922,
     "user": {
      "displayName": "Amichai Baichman-Ka",
      "userId": "16914562961023845270"
     },
     "user_tz": -180
    },
    "id": "7989b84a"
   },
   "outputs": [],
   "source": [
    "isolates=['BI', 'CB', 'CF', 'EA', 'EC1', 'EC10', 'EC11', 'EC12','EC14', \n",
    "          'EC16','EC17', 'EC18', 'EC9', 'Ecoli', 'Gh11','Gh12','Gh16',\n",
    "          'Gh22', 'Gh24','Gh28', 'Gh29', 'Gh30', 'Gh35', 'Gh36','Gh38',\n",
    "          'Gh40', 'Gh43', 'Gh44', 'Gh50', 'Gh54', 'Gh59', 'Gh60','Gh61',\n",
    "          'Gh62', 'Gh67', 'Gh68', 'Gh9','KA', 'LA', 'OGI19-L','OGI33-L',\n",
    "          'Og122', 'Og84', 'Og85', 'Og87', 'Og90','Og92', 'PAg1','PAg3', \n",
    "          'PAl', 'PH', 'PK', 'PP', 'ParPR2', 'RP1', 'RP1_A','RP1_B', \n",
    "          'RP2', 'SF1', 'SF2', 'Ut12', 'Ut14', 'Ut22']\n",
    "monos=  ['Mono1','Mono2','Mono']\n",
    "blanks= ['Blank1','Blank2']\n",
    "\n",
    "timepoints=['t0','t1','t2','t3']\n"
   ]
  },
  {
   "cell_type": "markdown",
   "id": "87322667",
   "metadata": {
    "id": "87322667"
   },
   "source": [
    "### Load and orginze data"
   ]
  },
  {
   "cell_type": "code",
   "execution_count": 3,
   "id": "e4a3a69a",
   "metadata": {
    "ExecuteTime": {
     "end_time": "2022-09-06T19:40:07.021056Z",
     "start_time": "2022-09-06T19:40:06.373768Z"
    },
    "colab": {
     "base_uri": "https://localhost:8080/",
     "height": 432
    },
    "executionInfo": {
     "elapsed": 11,
     "status": "error",
     "timestamp": 1661339454322,
     "user": {
      "displayName": "Amichai Baichman-Ka",
      "userId": "16914562961023845270"
     },
     "user_tz": -180
    },
    "id": "e4a3a69a",
    "outputId": "76c728f1-48c4-42c9-cf69-3af88239ded7"
   },
   "outputs": [],
   "source": [
    "warnings.filterwarnings(\"ignore\")\n",
    "\n",
    "#Pair chips with their data files\n",
    "data_files=dict(zip(range(1,13),[\"EC_A\",\"EC_B\",\"EA_A\",\"EA_B\",\"RP1_A\",\"RP1_B\",\"BI_A\",\"BI_B\",\n",
    "                                 \"CF_A\",\"CF_B\",\"PAg_A\",\"PAg_B\"]))\n",
    "\n",
    "#Load data from all chips into dictionary\n",
    "chips_dict={}\n",
    "for chip in range(1,13):\n",
    "    chips_dict[data_files[chip]]=pd.read_csv('Data/kChip_data/k2/chip'+str(chip)+'.csv')\n",
    "    \n",
    "    area_mode=chips_dict[data_files[chip]]['t0_Area'].mode()[0]\n",
    "    margin=area_mode*0.3\n",
    "    chips_dict[data_files[chip]]=chips_dict[data_files[chip]][(chips_dict[data_files[chip]].t0_Area>(area_mode-margin)) &\n",
    "                           (chips_dict[data_files[chip]].t0_Area<(area_mode+margin)) & (chips_dict[data_files[chip]].Total==2)]\n",
    "    chips_dict[data_files[chip]]['chip']=chr(ord('@')+(chip%2+1))\n",
    "    \n",
    "#Merge replicate chips\n",
    "chips_dict2={}\n",
    "for focal in [\"EC\",\"EA\",\"RP1\",\"BI\",\"CF\",\"PAg\"]:\n",
    "    chips_dict2[focal]=chips_dict[focal+'_A'].append(chips_dict[focal+'_B'])\n",
    "\n",
    "chips_dict=chips_dict2\n",
    "\n",
    "\"\"\"Subtract t0 value for each well individually (so we are measuring added biomass)\"\"\"\n",
    "\n",
    "n_chips_dict={}\n",
    "for chip in chips_dict:\n",
    "    df=chips_dict[chip].copy()\n",
    "\n",
    "    #normalize each well to its own starting value\n",
    "    df.t1=df.t1-df.t0\n",
    "    df.t2=df.t2-df.t0\n",
    "    df.t3=df.t3-df.t0\n",
    "    df.t0=df.t0-df.t0\n",
    "    \n",
    "    #ensure no negative values or zero to avoid inf values later on\n",
    "    df[timepoints]=df[timepoints].clip(lower=1)\n",
    "    \n",
    "    n_chips_dict[chip]=df"
   ]
  },
  {
   "cell_type": "markdown",
   "id": "d00da585",
   "metadata": {
    "id": "d00da585"
   },
   "source": [
    "### Load growth curve data"
   ]
  },
  {
   "cell_type": "code",
   "execution_count": 4,
   "id": "8fe1c42c",
   "metadata": {
    "ExecuteTime": {
     "end_time": "2022-09-06T19:40:14.654295Z",
     "start_time": "2022-09-06T19:40:07.021056Z"
    },
    "id": "8fe1c42c"
   },
   "outputs": [],
   "source": [
    "#dictionary to match samples to identifiers\n",
    "phylo=pd.read_excel('Data/Strains.xlsx')\n",
    "r_phylo_dict=dict(zip(phylo['Identifier'],phylo['Sample Name']))\n",
    "\n",
    "\n",
    "gc_data=(pd.read_csv('Data/Isolate_profiling/gc_data.csv')\n",
    "         .replace(r_phylo_dict)\n",
    "         .replace({'EColi':'Ecoli'})\n",
    "         .drop_duplicates(subset='sample',)\n",
    "         .set_index('sample'))\n",
    "\n",
    "max_od_dict=dict(zip(gc_data.index,gc_data.max_od))"
   ]
  },
  {
   "cell_type": "code",
   "execution_count": 5,
   "id": "5e6a46af",
   "metadata": {
    "ExecuteTime": {
     "end_time": "2022-09-06T19:40:14.669952Z",
     "start_time": "2022-09-06T19:40:14.654295Z"
    },
    "id": "5e6a46af"
   },
   "outputs": [],
   "source": [
    "def modified_S (row):\n",
    "    if row[\"mono_s1_effect\"]>0 and row[\"mono_s2_effect\"]>0:\n",
    "        row['modified_strongest']=row[[\"mono_s1_effect\",\"mono_s2_effect\"]].max()\n",
    "    else: row['modified_strongest']=row[[\"mono_s1_effect\",\"mono_s2_effect\"]].min()\n",
    "    return row\n",
    "\n",
    "def comm_size(row):\n",
    "    \n",
    "    #assign community size\n",
    "    if row['sample1']==row['sample2']: \n",
    "        row['comm_size']='single'\n",
    "    elif row['sample1']=='Mono': \n",
    "        row['comm_size']='single'    \n",
    "    elif row['sample2']=='Mono': \n",
    "        row['comm_size']='single'\n",
    "    else: row['comm_size']='pair'    \n",
    "    \n",
    "    return row"
   ]
  },
  {
   "cell_type": "markdown",
   "id": "56dac28a",
   "metadata": {},
   "source": [
    "## Test on original dataset and compare values"
   ]
  },
  {
   "cell_type": "code",
   "execution_count": 6,
   "id": "b0a7ebd9",
   "metadata": {
    "ExecuteTime": {
     "end_time": "2022-09-06T19:40:29.760883Z",
     "start_time": "2022-09-06T19:40:14.676942Z"
    },
    "scrolled": true
   },
   "outputs": [],
   "source": [
    "warnings.filterwarnings(\"ignore\")\n",
    "orngl_effects_dict={}\n",
    "\n",
    "for chip in list(n_chips_dict.keys()):\n",
    "    tp='t1'\n",
    "    data=n_chips_dict[chip].copy()\n",
    "    focal_mono_df=data[(data['sample1'].isin(monos))&\n",
    "                           (data['sample2'].isin(monos))][tp]\n",
    "    focal_mono_median=focal_mono_df.median()\n",
    "    \n",
    "    data[['sample1','sample2']]= data[['sample1','sample2']].replace({'RP1_A':'RP1','RP1_B':'RP1',\n",
    "                                                                      'Blank1':np.nan,'Blank2':np.nan,\n",
    "                                                                      'Mono1':np.nan,'Mono2':np.nan,\n",
    "                                                                      'Mono':np.nan})\n",
    "\n",
    "    data.sample1 = data.sample1.fillna(data.sample2)\n",
    "    data.sample2 = data.sample2.fillna(data.sample1)\n",
    "    \n",
    "    #get data for pair\n",
    "    effect_data=data.groupby(['sample1', 'sample2'],\n",
    "                             as_index=False)[tp].median()\n",
    "    \n",
    "    effect_data['combined_effect']=log(effect_data[tp]/focal_mono_median)\n",
    "    \n",
    "    effect_data['Count']=data.groupby(['sample1', 'sample2'],\n",
    "                                      as_index=False)[tp].count()[tp]\n",
    "\n",
    "#     add data for each bug on its own\n",
    "    mono_t=(effect_data[(effect_data.sample1==effect_data.sample2)|\n",
    "                        (effect_data.sample1.isin(monos))|\n",
    "                        (effect_data.sample2.isin(monos))]\n",
    "          [['sample1','sample2','combined_effect', 'Count']])\n",
    "\n",
    "    mono_t.sample1=mono_t.sample1.replace(['Mono'], np.nan)\n",
    "    mono_t.sample1 = mono_t.sample1.fillna(mono_t.sample2)\n",
    "\n",
    "    mono_t.sample2=mono_t.sample2.replace(['Mono'], np.nan)\n",
    "    mono_t.sample2 = mono_t.sample2.fillna(mono_t.sample1)\n",
    "\n",
    "    mono=pd.DataFrame(mono_t.groupby(['sample1','sample2'],\n",
    "                                    as_index=False)['combined_effect'].mean())\n",
    "    mono['Count']=mono_t.groupby(['sample1','sample2'],\n",
    "                                as_index=False)['Count'].sum()['Count']           \n",
    "          \n",
    "    mono=mono.rename(columns={'combined_effect':'effect'})\n",
    "    \n",
    "    mono['max_od'] = mono.sample1.map(max_od_dict)\n",
    "    \n",
    "    monos1=mono.add_prefix('mono_s1_')\n",
    "    effect_data=effect_data.merge(monos1, left_on='sample1',\n",
    "                                  right_on='mono_s1_sample1').drop('mono_s1_sample1',axis=1)\n",
    "    monos2=mono.add_prefix('mono_s2_')\n",
    "    effect_data=effect_data.merge(monos2, left_on='sample2',\n",
    "                                  right_on='mono_s2_sample1').drop('mono_s2_sample1',axis=1)\n",
    "\n",
    "    effect_data['strongest'] = effect_data.apply(lambda x: max(x[[\"mono_s1_effect\",\"mono_s2_effect\"]],\n",
    "                                                               key=abs), axis=1)\n",
    "    \n",
    "    effect_data['mean'] = effect_data[[\"mono_s1_effect\",\"mono_s2_effect\"]].mean(axis=1)\n",
    "    \n",
    "    effect_data['additive']=(effect_data[\"mono_s1_effect\"]+\n",
    "                             effect_data[\"mono_s2_effect\"])\n",
    "    \n",
    "    effect_data['OD_W_mean']=(((effect_data[\"mono_s1_effect\"]*effect_data[\"mono_s1_max_od\"])+\n",
    "                                  (effect_data[\"mono_s2_effect\"]*effect_data[\"mono_s2_max_od\"]))/\n",
    "                                  (effect_data[\"mono_s1_max_od\"]+effect_data[\"mono_s2_max_od\"]))  \n",
    "    \n",
    "    effect_data['focal']=chip\n",
    "    effect_data=effect_data.apply(modified_S, axis=1)\n",
    "    effect_data=effect_data.apply(comm_size, axis=1)\n",
    "        \n",
    "    effect_data=effect_data[effect_data['Count']>2]\n",
    "    orngl_effects_dict[chip]=effect_data\n",
    "    \n",
    "#merge into single dataframe\n",
    "original_dataset=orngl_effects_dict['EC'].copy()\n",
    "for chip in list(orngl_effects_dict.keys())[1:]:\n",
    "    original_dataset=original_dataset.append(orngl_effects_dict[chip])\n",
    "\n",
    "    "
   ]
  },
  {
   "cell_type": "code",
   "execution_count": 7,
   "id": "e500c37a",
   "metadata": {
    "ExecuteTime": {
     "end_time": "2022-09-06T19:40:29.791991Z",
     "start_time": "2022-09-06T19:40:29.760883Z"
    }
   },
   "outputs": [
    {
     "name": "stdout",
     "output_type": "stream",
     "text": [
      "additive 0.663\n",
      "mean 0.464\n",
      "OD_W_mean 0.37\n",
      "strongest 0.263\n",
      "modified_strongest 0.244\n"
     ]
    }
   ],
   "source": [
    "pairs=original_dataset[original_dataset.comm_size=='pair']#.drop_duplicates()\n",
    "\n",
    "for m in ['additive','mean', 'OD_W_mean', 'strongest','modified_strongest']:\n",
    "    \n",
    "    effects_df2=pairs[[m,'combined_effect']].dropna()\n",
    "    iqr=sp.stats.iqr(effects_df2.combined_effect)\n",
    "\n",
    "    print(m,(((mean_squared_error(effects_df2[m],effects_df2['combined_effect']))**0.5)/iqr).round(3))\n",
    "        \n"
   ]
  },
  {
   "cell_type": "markdown",
   "id": "35d88861",
   "metadata": {
    "id": "35d88861"
   },
   "source": [
    "## Bootstrapping"
   ]
  },
  {
   "cell_type": "code",
   "execution_count": 8,
   "id": "712108ca",
   "metadata": {
    "ExecuteTime": {
     "end_time": "2022-09-07T01:18:07.319402Z",
     "start_time": "2022-09-06T19:40:29.793950Z"
    },
    "id": "712108ca",
    "outputId": "a1260cec-f503-4122-90dc-66f224898956"
   },
   "outputs": [],
   "source": [
    "repeats=1001\n",
    "\n",
    "warnings.filterwarnings(\"ignore\")\n",
    "k2_effects_dict={}\n",
    "df_counter=1\n",
    "for chip in list(n_chips_dict.keys()):\n",
    "    tp='t1'\n",
    "    data2=n_chips_dict[chip].copy()\n",
    "    for i in range(1,repeats):\n",
    "        data=data2.sample(len(data2), replace=True, random_state=i, ignore_index=True)\n",
    "\n",
    "        focal_mono_df=data[(data['sample1'].isin(monos))&\n",
    "                       (data['sample2'].isin(monos))][tp]\n",
    "        focal_mono_median=focal_mono_df.median()\n",
    "\n",
    "        data[['sample1','sample2']]= data[['sample1','sample2']].replace({'RP1_A':'RP1','RP1_B':'RP1',\n",
    "                                                                          'Blank1':np.nan,'Blank2':np.nan,\n",
    "                                                                          'Mono1':np.nan,'Mono2':np.nan,\n",
    "                                                                          'Mono':np.nan})\n",
    "\n",
    "        data.sample1 = data.sample1.fillna(data.sample2)\n",
    "        data.sample2 = data.sample2.fillna(data.sample1)\n",
    "\n",
    "        #get data for pair\n",
    "        effect_data=data.groupby(['sample1', 'sample2'],\n",
    "                                 as_index=False)[tp].median()\n",
    "\n",
    "        effect_data['combined_effect']=log(effect_data[tp]/focal_mono_median)\n",
    "\n",
    "        effect_data['Count']=data.groupby(['sample1', 'sample2'],\n",
    "                                          as_index=False)[tp].count()[tp]\n",
    "\n",
    "    #     add data for each bug on its own\n",
    "        mono_t=(effect_data[(effect_data.sample1==effect_data.sample2)|\n",
    "                            (effect_data.sample1.isin(monos))|\n",
    "                            (effect_data.sample2.isin(monos))]\n",
    "              [['sample1','sample2','combined_effect', 'Count']])\n",
    "\n",
    "        mono_t.sample1=mono_t.sample1.replace(['Mono'], np.nan)\n",
    "        mono_t.sample1 = mono_t.sample1.fillna(mono_t.sample2)\n",
    "\n",
    "        mono_t.sample2=mono_t.sample2.replace(['Mono'], np.nan)\n",
    "        mono_t.sample2 = mono_t.sample2.fillna(mono_t.sample1)\n",
    "\n",
    "        mono=pd.DataFrame(mono_t.groupby(['sample1','sample2'],\n",
    "                                        as_index=False)['combined_effect'].mean())\n",
    "        mono['Count']=mono_t.groupby(['sample1','sample2'],\n",
    "                                    as_index=False)['Count'].sum()['Count']           \n",
    "\n",
    "        mono=mono.rename(columns={'combined_effect':'effect'})\n",
    "\n",
    "        mono['max_od'] = mono.sample1.map(max_od_dict)\n",
    "\n",
    "        monos1=mono.add_prefix('mono_s1_')\n",
    "        effect_data=effect_data.merge(monos1, left_on='sample1',\n",
    "                                      right_on='mono_s1_sample1').drop('mono_s1_sample1',axis=1)\n",
    "        monos2=mono.add_prefix('mono_s2_')\n",
    "        effect_data=effect_data.merge(monos2, left_on='sample2',\n",
    "                                      right_on='mono_s2_sample1').drop('mono_s2_sample1',axis=1)\n",
    "\n",
    "        effect_data['strongest'] = effect_data.apply(lambda x: max(x[[\"mono_s1_effect\",\"mono_s2_effect\"]],\n",
    "                                                                   key=abs), axis=1)\n",
    "\n",
    "        effect_data['mean'] = effect_data[[\"mono_s1_effect\",\"mono_s2_effect\"]].mean(axis=1)\n",
    "\n",
    "        effect_data['additive']=(effect_data[\"mono_s1_effect\"]+effect_data[\"mono_s2_effect\"])\n",
    "\n",
    "        effect_data['OD_W_mean']=(((effect_data[\"mono_s1_effect\"]*effect_data[\"mono_s1_max_od\"])+\n",
    "                                   (effect_data[\"mono_s2_effect\"]*effect_data[\"mono_s2_max_od\"]))/\n",
    "                                   (effect_data[\"mono_s1_max_od\"]+effect_data[\"mono_s2_max_od\"]))   \n",
    "        effect_data['focal']=chip\n",
    "\n",
    "        effect_data=effect_data.apply(modified_S, axis=1)\n",
    "        effect_data=effect_data.apply(comm_size, axis=1)\n",
    "        effect_data=effect_data[effect_data['Count']>2]\n",
    "        \n",
    "        k2_effects_dict[df_counter]=effect_data\n",
    "        \n",
    "      \n",
    "        df_counter+=1"
   ]
  },
  {
   "cell_type": "code",
   "execution_count": 9,
   "id": "63ec8588",
   "metadata": {
    "ExecuteTime": {
     "end_time": "2022-09-07T01:19:06.815659Z",
     "start_time": "2022-09-07T01:18:07.321950Z"
    },
    "id": "63ec8588",
    "outputId": "28ad4f1f-037c-45aa-d829-4b5ddc030abf"
   },
   "outputs": [],
   "source": [
    "merged_effects_dict={}\n",
    "\n",
    "for start_chip in range(1,repeats):\n",
    "    temp_effect_df=pd.DataFrame()\n",
    "        \n",
    "    for chip in range(start_chip,len(k2_effects_dict)+1,repeats-1):\n",
    "        temp_effect_df=temp_effect_df.append(k2_effects_dict[chip])\n",
    "\n",
    "    merged_effects_dict[start_chip]=temp_effect_df.drop_duplicates()\n",
    "\n"
   ]
  },
  {
   "cell_type": "markdown",
   "id": "e3ed6026",
   "metadata": {
    "id": "e3ed6026"
   },
   "source": [
    "## Calculate RMSE for each bootstrapped dataset"
   ]
  },
  {
   "cell_type": "code",
   "execution_count": 10,
   "id": "443c2948",
   "metadata": {
    "ExecuteTime": {
     "end_time": "2022-09-07T01:19:25.274097Z",
     "start_time": "2022-09-07T01:19:06.818925Z"
    },
    "id": "443c2948"
   },
   "outputs": [],
   "source": [
    "k2_summ_df=pd.DataFrame(columns=['additive','mean', 'OD_W_mean', 'strongest','modified_strongest'])\n",
    "counter=1\n",
    "for effects_df in merged_effects_dict.values():\n",
    "    effects_df=effects_df[effects_df.comm_size=='pair']\n",
    "    \n",
    "    for m in ['additive','mean', 'OD_W_mean', 'strongest','modified_strongest']:\n",
    "        \n",
    "        effects_df2=effects_df[[m,'combined_effect']].dropna()\n",
    "        iqr=sp.stats.iqr(effects_df2.combined_effect)\n",
    "\n",
    "        k2_summ_df.at[counter, m]=(((mean_squared_error(effects_df2[m],effects_df2['combined_effect']))**0.5)/iqr)\n",
    "        \n",
    "    counter+=1"
   ]
  },
  {
   "cell_type": "code",
   "execution_count": 11,
   "id": "72fb147e",
   "metadata": {
    "ExecuteTime": {
     "end_time": "2022-09-07T01:19:28.115873Z",
     "start_time": "2022-09-07T01:19:25.276145Z"
    }
   },
   "outputs": [
    {
     "data": {
      "text/plain": [
       "<AxesSubplot:ylabel='Count'>"
      ]
     },
     "execution_count": 11,
     "metadata": {},
     "output_type": "execute_result"
    },
    {
     "data": {
      "image/png": "[encoded data removed]",
      "text/plain": [
       "<Figure size 432x288 with 1 Axes>"
      ]
     },
     "metadata": {
      "needs_background": "light"
     },
     "output_type": "display_data"
    }
   ],
   "source": [
    "l=[]\n",
    "for effects_df in merged_effects_dict.values():\n",
    "    effects_df=effects_df[effects_df.comm_size=='pair']\n",
    "    l.append(len(pairs)-len(effects_df))\n",
    "    \n",
    "sns.histplot(data=l, bins=20)"
   ]
  },
  {
   "cell_type": "code",
   "execution_count": 83,
   "id": "709a4a66",
   "metadata": {
    "ExecuteTime": {
     "end_time": "2022-09-08T09:34:37.169047Z",
     "start_time": "2022-09-08T09:34:37.118391Z"
    },
    "id": "709a4a66",
    "outputId": "1c9a2d4b-50e5-40bb-f369-d81ed88cf5f5",
    "scrolled": false
   },
   "outputs": [
    {
     "data": {
      "text/html": [
       "<div>\n",
       "<style scoped>\n",
       "    .dataframe tbody tr th:only-of-type {\n",
       "        vertical-align: middle;\n",
       "    }\n",
       "\n",
       "    .dataframe tbody tr th {\n",
       "        vertical-align: top;\n",
       "    }\n",
       "\n",
       "    .dataframe thead th {\n",
       "        text-align: right;\n",
       "    }\n",
       "</style>\n",
       "<table border=\"1\" class=\"dataframe\">\n",
       "  <thead>\n",
       "    <tr style=\"text-align: right;\">\n",
       "      <th></th>\n",
       "      <th>mean</th>\n",
       "      <th>median</th>\n",
       "      <th>std</th>\n",
       "      <th>CoV</th>\n",
       "    </tr>\n",
       "  </thead>\n",
       "  <tbody>\n",
       "    <tr>\n",
       "      <th>additive</th>\n",
       "      <td>0.656</td>\n",
       "      <td>0.654</td>\n",
       "      <td>0.016</td>\n",
       "      <td>0.024</td>\n",
       "    </tr>\n",
       "    <tr>\n",
       "      <th>mean</th>\n",
       "      <td>0.467</td>\n",
       "      <td>0.467</td>\n",
       "      <td>0.011</td>\n",
       "      <td>0.024</td>\n",
       "    </tr>\n",
       "    <tr>\n",
       "      <th>OD_W_mean</th>\n",
       "      <td>0.382</td>\n",
       "      <td>0.382</td>\n",
       "      <td>0.009</td>\n",
       "      <td>0.024</td>\n",
       "    </tr>\n",
       "    <tr>\n",
       "      <th>strongest</th>\n",
       "      <td>0.285</td>\n",
       "      <td>0.285</td>\n",
       "      <td>0.010</td>\n",
       "      <td>0.034</td>\n",
       "    </tr>\n",
       "    <tr>\n",
       "      <th>modified_strongest</th>\n",
       "      <td>0.270</td>\n",
       "      <td>0.270</td>\n",
       "      <td>0.008</td>\n",
       "      <td>0.031</td>\n",
       "    </tr>\n",
       "  </tbody>\n",
       "</table>\n",
       "</div>"
      ],
      "text/plain": [
       "                     mean  median    std    CoV\n",
       "additive            0.656   0.654  0.016  0.024\n",
       "mean                0.467   0.467  0.011  0.024\n",
       "OD_W_mean           0.382   0.382  0.009  0.024\n",
       "strongest           0.285   0.285  0.010  0.034\n",
       "modified_strongest  0.270   0.270  0.008  0.031"
      ]
     },
     "execution_count": 83,
     "metadata": {},
     "output_type": "execute_result"
    }
   ],
   "source": [
    "# print(\"Mean\\n\",k2_summ_df.mean().round(3))\n",
    "# print(\"Median\\n\",k2_summ_df.median().round(3))\n",
    "# print(\"STD\\n\", k2_summ_df.std().round(3))\n",
    "# print(\"Coefficient of variation\\n\",(k2_summ_df.std()/k2_summ_df.mean()).round(3))\n",
    "\n",
    "k2_sumsum=pd.DataFrame()\n",
    "# k2_sumsum['original']=(.mean().round(3))\n",
    "k2_sumsum['mean']=(k2_summ_df.mean().round(3))\n",
    "k2_sumsum['mean']=(k2_summ_df.mean().round(3))\n",
    "k2_sumsum['median']=(k2_summ_df.median().round(3))\n",
    "k2_sumsum['std']=(k2_summ_df.std().round(3))\n",
    "k2_sumsum['CoV']=((k2_summ_df.std()/k2_summ_df.mean()).round(3))\n",
    "k2_sumsum\n",
    "\n",
    "# additive 0.663\n",
    "# mean 0.464\n",
    "# OD_W_mean 0.37\n",
    "# strongest 0.263\n",
    "# modified_strongest 0.244\n"
   ]
  },
  {
   "cell_type": "code",
   "execution_count": 13,
   "id": "6d0e1150",
   "metadata": {
    "ExecuteTime": {
     "end_time": "2022-09-07T01:19:38.462995Z",
     "start_time": "2022-09-07T01:19:28.182580Z"
    },
    "scrolled": false
   },
   "outputs": [
    {
     "name": "stdout",
     "output_type": "stream",
     "text": [
      "additive v.s. mean: Mann-Whitney-Wilcoxon test two-sided, P_val=0.000e+00 U_stat=1.000e+06\n",
      "mean v.s. OD_W_mean: Mann-Whitney-Wilcoxon test two-sided, P_val=0.000e+00 U_stat=1.000e+06\n",
      "OD_W_mean v.s. strongest: Mann-Whitney-Wilcoxon test two-sided, P_val=0.000e+00 U_stat=1.000e+06\n",
      "strongest v.s. modified_strongest: Mann-Whitney-Wilcoxon test two-sided, P_val=2.810e-197 U_stat=8.869e+05\n",
      "additive v.s. OD_W_mean: Mann-Whitney-Wilcoxon test two-sided, P_val=0.000e+00 U_stat=1.000e+06\n",
      "mean v.s. strongest: Mann-Whitney-Wilcoxon test two-sided, P_val=0.000e+00 U_stat=1.000e+06\n",
      "OD_W_mean v.s. modified_strongest: Mann-Whitney-Wilcoxon test two-sided, P_val=0.000e+00 U_stat=1.000e+06\n",
      "additive v.s. strongest: Mann-Whitney-Wilcoxon test two-sided, P_val=0.000e+00 U_stat=1.000e+06\n",
      "mean v.s. modified_strongest: Mann-Whitney-Wilcoxon test two-sided, P_val=0.000e+00 U_stat=1.000e+06\n",
      "additive v.s. modified_strongest: Mann-Whitney-Wilcoxon test two-sided, P_val=0.000e+00 U_stat=1.000e+06\n"
     ]
    },
    {
     "data": {
      "image/png": "[encoded data removed]",
      "text/plain": [
       "<Figure size 1080x576 with 1 Axes>"
      ]
     },
     "metadata": {
      "needs_background": "light"
     },
     "output_type": "display_data"
    }
   ],
   "source": [
    "fig, axes = plt.subplots(1,1,figsize=(15,8))\n",
    "\n",
    "data=k2_summ_df.melt()\n",
    "\n",
    "\n",
    "ax=sns.boxplot(data=data, x='variable', y='value',color='white', fliersize=0)\n",
    "ax=sns.swarmplot(data=data, x='variable', y='value',size=2, color='black')\n",
    "\n",
    "add_stat_annotation(ax, data=data, x=\"variable\", y=\"value\",\n",
    "                   box_pairs=list(itertools.combinations(list(k2_summ_df),2)),\n",
    "                   test='Mann-Whitney', text_format='simple', verbose=2, comparisons_correction=None);\n",
    "\n",
    "\n",
    "# ax.set_xlabel('\\nPairs from single species                                     '+\n",
    "#               'Trios from single species                                     Trios from pairs  '+\n",
    "#               '\\n\\n         Dataset and model',fontsize=15)\n",
    "# ax.set_ylabel('nRMSE',fontsize=20)\n",
    "# ax.yscale=('log')\n",
    "# ax.set_xticklabels(['Additive', 'Mean', 'Strongest',\n",
    "#                     'Additive', 'Mean', 'Strongest',\n",
    "#                     'Additive', 'Mean', 'Strongest',], fontsize=15)\n",
    "# # ax.tick_params(labelsize=20)\n",
    "# # ax.set_ylim(-5,4.5)\n",
    "# plt.tight_layout()\n",
    "# fig.savefig('FS7_bts.png')\n"
   ]
  },
  {
   "cell_type": "markdown",
   "id": "29b41f52",
   "metadata": {
    "ExecuteTime": {
     "end_time": "2022-08-30T05:45:00.973706Z",
     "start_time": "2022-08-30T05:45:00.967684Z"
    }
   },
   "source": [
    "## Models by focal"
   ]
  },
  {
   "cell_type": "code",
   "execution_count": 15,
   "id": "5009be93",
   "metadata": {
    "ExecuteTime": {
     "end_time": "2022-09-07T01:27:45.113306Z",
     "start_time": "2022-09-07T01:26:30.582212Z"
    }
   },
   "outputs": [],
   "source": [
    "k2_summ_focal_df=pd.DataFrame()\n",
    "counter=0\n",
    "for effects_df in merged_effects_dict.values():\n",
    "    for f in effects_df.focal.unique():\n",
    "        effects_df2=effects_df[effects_df.focal==f]\n",
    "        for v in ['additive','mean', 'OD_W_mean', 'strongest','modified_strongest']:\n",
    "            effects_df3=effects_df2[[v,'combined_effect']].dropna()\n",
    "            iqr=sp.stats.iqr(effects_df3.combined_effect)\n",
    "\n",
    "            k2_summ_focal_df.at[counter, f+'_'+v]=(((mean_squared_error(effects_df3[v],\n",
    "                                                                        effects_df3['combined_effect']))**0.5)/iqr)\n",
    "\n",
    "    counter+=1    \n",
    "    "
   ]
  },
  {
   "cell_type": "code",
   "execution_count": 16,
   "id": "8baea99b",
   "metadata": {
    "ExecuteTime": {
     "end_time": "2022-09-07T01:28:08.760466Z",
     "start_time": "2022-09-07T01:27:45.113306Z"
    }
   },
   "outputs": [
    {
     "data": {
      "image/png": "[encoded data removed]",
      "text/plain": [
       "<Figure size 1080x576 with 6 Axes>"
      ]
     },
     "metadata": {
      "needs_background": "light"
     },
     "output_type": "display_data"
    }
   ],
   "source": [
    "fig, axes = plt.subplots(2,3,figsize=(15,8))\n",
    "\n",
    "sp_counter=1\n",
    "for f in effects_df.focal.unique():\n",
    "    data=k2_summ_focal_df.loc[:, k2_summ_focal_df.columns.str.startswith(f)].melt()\n",
    "    g=plt.subplot(2, 3, sp_counter)\n",
    "\n",
    "    g=sns.boxplot(data=data, x='variable', y='value',color='white', fliersize=0)\n",
    "    g=sns.swarmplot(data=data, x='variable', y='value',size=0.5, color='black')\n",
    "    g.set_title(f)\n",
    "    g.set_xticklabels([\"Add\",\"Mean\",\"OD Mean\",\"Strong\", \"M Strong\"])\n",
    "    g.set_xlabel(\"\")\n",
    "    g.set_ylabel(\"\")\n",
    "    g.set_ylim(0,1.5)\n",
    "#     add_stat_annotation(g, data=data, x=\"variable\", y=\"value\",\n",
    "#                        box_pairs=list(itertools.combinations(list(k2_summ_focal_df.loc[:, k2_summ_focal_df.columns.str.startswith(f)]),2)),\n",
    "#                        test='Mann-Whitney', text_format='simple', verbose=2, comparisons_correction=None)\n",
    "    sp_counter+=1"
   ]
  },
  {
   "cell_type": "markdown",
   "id": "8bc04cb0",
   "metadata": {},
   "source": [
    "## Models by sign"
   ]
  },
  {
   "cell_type": "code",
   "execution_count": 14,
   "id": "46cb99dc",
   "metadata": {
    "ExecuteTime": {
     "end_time": "2022-09-07T01:26:30.569183Z",
     "start_time": "2022-09-07T01:19:38.466950Z"
    }
   },
   "outputs": [],
   "source": [
    "one_big_data_set=merged_effects_dict[1]\n",
    "for i in range (2,repeats): \n",
    "    one_big_data_set=one_big_data_set.append(merged_effects_dict[i])\n",
    "\n",
    "one_big_data_set=one_big_data_set.reset_index().drop(columns='index')"
   ]
  },
  {
   "cell_type": "code",
   "execution_count": 35,
   "id": "a11e5b7f",
   "metadata": {
    "ExecuteTime": {
     "end_time": "2022-09-08T06:26:14.950602Z",
     "start_time": "2022-09-08T04:44:02.939704Z"
    }
   },
   "outputs": [
    {
     "data": {
      "text/html": [
       "<div>\n",
       "<style scoped>\n",
       "    .dataframe tbody tr th:only-of-type {\n",
       "        vertical-align: middle;\n",
       "    }\n",
       "\n",
       "    .dataframe tbody tr th {\n",
       "        vertical-align: top;\n",
       "    }\n",
       "\n",
       "    .dataframe thead th {\n",
       "        text-align: right;\n",
       "    }\n",
       "</style>\n",
       "<table border=\"1\" class=\"dataframe\">\n",
       "  <thead>\n",
       "    <tr style=\"text-align: right;\">\n",
       "      <th></th>\n",
       "      <th>sample1</th>\n",
       "      <th>sample2</th>\n",
       "      <th>t1</th>\n",
       "      <th>combined_effect</th>\n",
       "      <th>Count</th>\n",
       "      <th>mono_s1_sample2</th>\n",
       "      <th>mono_s1_effect</th>\n",
       "      <th>mono_s1_Count</th>\n",
       "      <th>mono_s1_max_od</th>\n",
       "      <th>mono_s2_sample2</th>\n",
       "      <th>...</th>\n",
       "      <th>strongest</th>\n",
       "      <th>mean</th>\n",
       "      <th>additive</th>\n",
       "      <th>OD_W_mean</th>\n",
       "      <th>focal</th>\n",
       "      <th>modified_strongest</th>\n",
       "      <th>comm_size</th>\n",
       "      <th>qual_e_1</th>\n",
       "      <th>qual_e_2</th>\n",
       "      <th>qual_monos</th>\n",
       "    </tr>\n",
       "  </thead>\n",
       "  <tbody>\n",
       "    <tr>\n",
       "      <th>0</th>\n",
       "      <td>BI</td>\n",
       "      <td>BI</td>\n",
       "      <td>136.309359</td>\n",
       "      <td>-3.454919</td>\n",
       "      <td>147</td>\n",
       "      <td>BI</td>\n",
       "      <td>-3.454919</td>\n",
       "      <td>147</td>\n",
       "      <td>0.814</td>\n",
       "      <td>BI</td>\n",
       "      <td>...</td>\n",
       "      <td>-3.454919</td>\n",
       "      <td>-3.454919</td>\n",
       "      <td>-6.909838</td>\n",
       "      <td>-3.454919</td>\n",
       "      <td>EC</td>\n",
       "      <td>-3.454919</td>\n",
       "      <td>single</td>\n",
       "      <td>-</td>\n",
       "      <td>-</td>\n",
       "      <td>-,-</td>\n",
       "    </tr>\n",
       "    <tr>\n",
       "      <th>1</th>\n",
       "      <td>BI</td>\n",
       "      <td>CB</td>\n",
       "      <td>272.838557</td>\n",
       "      <td>-2.760966</td>\n",
       "      <td>31</td>\n",
       "      <td>BI</td>\n",
       "      <td>-3.454919</td>\n",
       "      <td>147</td>\n",
       "      <td>0.814</td>\n",
       "      <td>CB</td>\n",
       "      <td>...</td>\n",
       "      <td>-3.454919</td>\n",
       "      <td>-2.899474</td>\n",
       "      <td>-5.798947</td>\n",
       "      <td>-2.832556</td>\n",
       "      <td>EC</td>\n",
       "      <td>-3.454919</td>\n",
       "      <td>pair</td>\n",
       "      <td>-</td>\n",
       "      <td>-</td>\n",
       "      <td>-,-</td>\n",
       "    </tr>\n",
       "    <tr>\n",
       "      <th>2</th>\n",
       "      <td>CB</td>\n",
       "      <td>CB</td>\n",
       "      <td>413.980266</td>\n",
       "      <td>-2.344028</td>\n",
       "      <td>174</td>\n",
       "      <td>CB</td>\n",
       "      <td>-2.344028</td>\n",
       "      <td>174</td>\n",
       "      <td>1.037</td>\n",
       "      <td>CB</td>\n",
       "      <td>...</td>\n",
       "      <td>-2.344028</td>\n",
       "      <td>-2.344028</td>\n",
       "      <td>-4.688056</td>\n",
       "      <td>-2.344028</td>\n",
       "      <td>EC</td>\n",
       "      <td>-2.344028</td>\n",
       "      <td>single</td>\n",
       "      <td>-</td>\n",
       "      <td>-</td>\n",
       "      <td>-,-</td>\n",
       "    </tr>\n",
       "    <tr>\n",
       "      <th>3</th>\n",
       "      <td>BI</td>\n",
       "      <td>CF</td>\n",
       "      <td>48.790566</td>\n",
       "      <td>-4.482309</td>\n",
       "      <td>34</td>\n",
       "      <td>BI</td>\n",
       "      <td>-3.454919</td>\n",
       "      <td>147</td>\n",
       "      <td>0.814</td>\n",
       "      <td>CF</td>\n",
       "      <td>...</td>\n",
       "      <td>-3.928314</td>\n",
       "      <td>-3.691617</td>\n",
       "      <td>-7.383234</td>\n",
       "      <td>-3.643718</td>\n",
       "      <td>EC</td>\n",
       "      <td>-3.928314</td>\n",
       "      <td>pair</td>\n",
       "      <td>-</td>\n",
       "      <td>-</td>\n",
       "      <td>-,-</td>\n",
       "    </tr>\n",
       "    <tr>\n",
       "      <th>4</th>\n",
       "      <td>CB</td>\n",
       "      <td>CF</td>\n",
       "      <td>196.531159</td>\n",
       "      <td>-3.089025</td>\n",
       "      <td>22</td>\n",
       "      <td>CB</td>\n",
       "      <td>-2.344028</td>\n",
       "      <td>174</td>\n",
       "      <td>1.037</td>\n",
       "      <td>CF</td>\n",
       "      <td>...</td>\n",
       "      <td>-3.928314</td>\n",
       "      <td>-3.136171</td>\n",
       "      <td>-6.272342</td>\n",
       "      <td>-2.886523</td>\n",
       "      <td>EC</td>\n",
       "      <td>-3.928314</td>\n",
       "      <td>pair</td>\n",
       "      <td>-</td>\n",
       "      <td>-</td>\n",
       "      <td>-,-</td>\n",
       "    </tr>\n",
       "    <tr>\n",
       "      <th>5</th>\n",
       "      <td>CF</td>\n",
       "      <td>CF</td>\n",
       "      <td>84.904891</td>\n",
       "      <td>-3.928314</td>\n",
       "      <td>159</td>\n",
       "      <td>CF</td>\n",
       "      <td>-3.928314</td>\n",
       "      <td>159</td>\n",
       "      <td>0.540</td>\n",
       "      <td>CF</td>\n",
       "      <td>...</td>\n",
       "      <td>-3.928314</td>\n",
       "      <td>-3.928314</td>\n",
       "      <td>-7.856629</td>\n",
       "      <td>-3.928314</td>\n",
       "      <td>EC</td>\n",
       "      <td>-3.928314</td>\n",
       "      <td>single</td>\n",
       "      <td>-</td>\n",
       "      <td>-</td>\n",
       "      <td>-,-</td>\n",
       "    </tr>\n",
       "    <tr>\n",
       "      <th>6</th>\n",
       "      <td>BI</td>\n",
       "      <td>EA</td>\n",
       "      <td>170.342406</td>\n",
       "      <td>-3.232036</td>\n",
       "      <td>6</td>\n",
       "      <td>BI</td>\n",
       "      <td>-3.454919</td>\n",
       "      <td>147</td>\n",
       "      <td>0.814</td>\n",
       "      <td>EA</td>\n",
       "      <td>...</td>\n",
       "      <td>-3.454919</td>\n",
       "      <td>-3.277666</td>\n",
       "      <td>-6.555333</td>\n",
       "      <td>-3.275728</td>\n",
       "      <td>EC</td>\n",
       "      <td>-3.454919</td>\n",
       "      <td>pair</td>\n",
       "      <td>-</td>\n",
       "      <td>-</td>\n",
       "      <td>-,-</td>\n",
       "    </tr>\n",
       "    <tr>\n",
       "      <th>7</th>\n",
       "      <td>CB</td>\n",
       "      <td>EA</td>\n",
       "      <td>164.764729</td>\n",
       "      <td>-3.265328</td>\n",
       "      <td>10</td>\n",
       "      <td>CB</td>\n",
       "      <td>-2.344028</td>\n",
       "      <td>174</td>\n",
       "      <td>1.037</td>\n",
       "      <td>EA</td>\n",
       "      <td>...</td>\n",
       "      <td>-3.100413</td>\n",
       "      <td>-2.722221</td>\n",
       "      <td>-5.444441</td>\n",
       "      <td>-2.680739</td>\n",
       "      <td>EC</td>\n",
       "      <td>-3.100413</td>\n",
       "      <td>pair</td>\n",
       "      <td>-</td>\n",
       "      <td>-</td>\n",
       "      <td>-,-</td>\n",
       "    </tr>\n",
       "    <tr>\n",
       "      <th>8</th>\n",
       "      <td>CF</td>\n",
       "      <td>EA</td>\n",
       "      <td>95.376331</td>\n",
       "      <td>-3.812016</td>\n",
       "      <td>17</td>\n",
       "      <td>CF</td>\n",
       "      <td>-3.928314</td>\n",
       "      <td>159</td>\n",
       "      <td>0.540</td>\n",
       "      <td>EA</td>\n",
       "      <td>...</td>\n",
       "      <td>-3.928314</td>\n",
       "      <td>-3.514364</td>\n",
       "      <td>-7.028728</td>\n",
       "      <td>-3.426264</td>\n",
       "      <td>EC</td>\n",
       "      <td>-3.928314</td>\n",
       "      <td>pair</td>\n",
       "      <td>-</td>\n",
       "      <td>-</td>\n",
       "      <td>-,-</td>\n",
       "    </tr>\n",
       "    <tr>\n",
       "      <th>9</th>\n",
       "      <td>EA</td>\n",
       "      <td>EA</td>\n",
       "      <td>194.305702</td>\n",
       "      <td>-3.100413</td>\n",
       "      <td>104</td>\n",
       "      <td>EA</td>\n",
       "      <td>-3.100413</td>\n",
       "      <td>104</td>\n",
       "      <td>0.832</td>\n",
       "      <td>EA</td>\n",
       "      <td>...</td>\n",
       "      <td>-3.100413</td>\n",
       "      <td>-3.100413</td>\n",
       "      <td>-6.200827</td>\n",
       "      <td>-3.100413</td>\n",
       "      <td>EC</td>\n",
       "      <td>-3.100413</td>\n",
       "      <td>single</td>\n",
       "      <td>-</td>\n",
       "      <td>-</td>\n",
       "      <td>-,-</td>\n",
       "    </tr>\n",
       "  </tbody>\n",
       "</table>\n",
       "<p>10 rows × 23 columns</p>\n",
       "</div>"
      ],
      "text/plain": [
       "  sample1 sample2          t1  combined_effect  Count mono_s1_sample2  \\\n",
       "0      BI      BI  136.309359        -3.454919    147              BI   \n",
       "1      BI      CB  272.838557        -2.760966     31              BI   \n",
       "2      CB      CB  413.980266        -2.344028    174              CB   \n",
       "3      BI      CF   48.790566        -4.482309     34              BI   \n",
       "4      CB      CF  196.531159        -3.089025     22              CB   \n",
       "5      CF      CF   84.904891        -3.928314    159              CF   \n",
       "6      BI      EA  170.342406        -3.232036      6              BI   \n",
       "7      CB      EA  164.764729        -3.265328     10              CB   \n",
       "8      CF      EA   95.376331        -3.812016     17              CF   \n",
       "9      EA      EA  194.305702        -3.100413    104              EA   \n",
       "\n",
       "   mono_s1_effect  mono_s1_Count  mono_s1_max_od mono_s2_sample2  ...  \\\n",
       "0       -3.454919            147           0.814              BI  ...   \n",
       "1       -3.454919            147           0.814              CB  ...   \n",
       "2       -2.344028            174           1.037              CB  ...   \n",
       "3       -3.454919            147           0.814              CF  ...   \n",
       "4       -2.344028            174           1.037              CF  ...   \n",
       "5       -3.928314            159           0.540              CF  ...   \n",
       "6       -3.454919            147           0.814              EA  ...   \n",
       "7       -2.344028            174           1.037              EA  ...   \n",
       "8       -3.928314            159           0.540              EA  ...   \n",
       "9       -3.100413            104           0.832              EA  ...   \n",
       "\n",
       "   strongest      mean  additive  OD_W_mean  focal  modified_strongest  \\\n",
       "0  -3.454919 -3.454919 -6.909838  -3.454919     EC           -3.454919   \n",
       "1  -3.454919 -2.899474 -5.798947  -2.832556     EC           -3.454919   \n",
       "2  -2.344028 -2.344028 -4.688056  -2.344028     EC           -2.344028   \n",
       "3  -3.928314 -3.691617 -7.383234  -3.643718     EC           -3.928314   \n",
       "4  -3.928314 -3.136171 -6.272342  -2.886523     EC           -3.928314   \n",
       "5  -3.928314 -3.928314 -7.856629  -3.928314     EC           -3.928314   \n",
       "6  -3.454919 -3.277666 -6.555333  -3.275728     EC           -3.454919   \n",
       "7  -3.100413 -2.722221 -5.444441  -2.680739     EC           -3.100413   \n",
       "8  -3.928314 -3.514364 -7.028728  -3.426264     EC           -3.928314   \n",
       "9  -3.100413 -3.100413 -6.200827  -3.100413     EC           -3.100413   \n",
       "\n",
       "   comm_size qual_e_1  qual_e_2 qual_monos  \n",
       "0     single        -         -        -,-  \n",
       "1       pair        -         -        -,-  \n",
       "2     single        -         -        -,-  \n",
       "3       pair        -         -        -,-  \n",
       "4       pair        -         -        -,-  \n",
       "5     single        -         -        -,-  \n",
       "6       pair        -         -        -,-  \n",
       "7       pair        -         -        -,-  \n",
       "8       pair        -         -        -,-  \n",
       "9     single        -         -        -,-  \n",
       "\n",
       "[10 rows x 23 columns]"
      ]
     },
     "execution_count": 35,
     "metadata": {},
     "output_type": "execute_result"
    }
   ],
   "source": [
    "one_big_data_set['qual_e_1'] = np.where(one_big_data_set['mono_s1_effect'] > 0, '+', '-')\n",
    "one_big_data_set['qual_e_2'] = np.where(one_big_data_set['mono_s2_effect'] > 0, '+', '-')\n",
    "\n",
    "def qual_mono (row):\n",
    "    row['qual_monos']=','.join(sorted(list(row[['qual_e_1','qual_e_2']])))\n",
    "    return (row)\n",
    "\n",
    "one_big_data_set=one_big_data_set.apply(qual_mono, axis=1)\n",
    "one_big_data_set.head(10)"
   ]
  },
  {
   "cell_type": "code",
   "execution_count": 47,
   "id": "b0681594",
   "metadata": {
    "ExecuteTime": {
     "end_time": "2022-09-08T09:02:25.041249Z",
     "start_time": "2022-09-08T06:36:03.519769Z"
    }
   },
   "outputs": [],
   "source": [
    "qm_dict={'-,-':'Negative-Negative','+,-':'Postive-Negative','+,+':'Postive-Postive'}\n",
    "\n",
    "k2_summ_qm_df=pd.DataFrame()\n",
    "counter=0\n",
    "for effects_df in merged_effects_dict.values():\n",
    "    effects_df['qual_e_1'] = np.where(effects_df['mono_s1_effect'] > 0, '+', '-')\n",
    "    effects_df['qual_e_2'] = np.where(effects_df['mono_s2_effect'] > 0, '+', '-')\n",
    "    effects_df=effects_df.apply(qual_mono, axis=1)\n",
    "    \n",
    "    for qm in effects_df.qual_monos.unique():\n",
    "        effects_df2=effects_df[effects_df.qual_monos==qm]\n",
    "\n",
    "        for v in ['additive','mean', 'OD_W_mean', 'strongest','modified_strongest']:\n",
    "            effects_df3=effects_df2[[v,'combined_effect']].dropna()\n",
    "            iqr=sp.stats.iqr(effects_df3.combined_effect)\n",
    "\n",
    "            k2_summ_qm_df.at[counter, qm_dict[qm]+'__'+v]=(((mean_squared_error(effects_df3[v],\n",
    "                                                                     effects_df3['combined_effect']))**0.5)/iqr)\n",
    "\n",
    "    counter+=1    \n",
    "    "
   ]
  },
  {
   "cell_type": "code",
   "execution_count": 76,
   "id": "d63c1084",
   "metadata": {
    "ExecuteTime": {
     "end_time": "2022-09-08T09:16:40.333273Z",
     "start_time": "2022-09-08T09:16:31.195135Z"
    },
    "scrolled": true
   },
   "outputs": [
    {
     "name": "stdout",
     "output_type": "stream",
     "text": [
      "Negative-Negative__additive v.s. Negative-Negative__mean: Mann-Whitney-Wilcoxon test two-sided, P_val=0.000e+00 U_stat=1.000e+06\n",
      "Negative-Negative__mean v.s. Negative-Negative__OD_W_mean: Mann-Whitney-Wilcoxon test two-sided, P_val=0.000e+00 U_stat=9.917e+05\n",
      "Negative-Negative__OD_W_mean v.s. Negative-Negative__strongest: Mann-Whitney-Wilcoxon test two-sided, P_val=0.000e+00 U_stat=1.000e+06\n",
      "Negative-Negative__strongest v.s. Negative-Negative__modified_strongest: Mann-Whitney-Wilcoxon test two-sided, P_val=1.000e+00 U_stat=5.000e+05\n",
      "Negative-Negative__additive v.s. Negative-Negative__OD_W_mean: Mann-Whitney-Wilcoxon test two-sided, P_val=0.000e+00 U_stat=1.000e+06\n",
      "Negative-Negative__mean v.s. Negative-Negative__strongest: Mann-Whitney-Wilcoxon test two-sided, P_val=0.000e+00 U_stat=1.000e+06\n",
      "Negative-Negative__OD_W_mean v.s. Negative-Negative__modified_strongest: Mann-Whitney-Wilcoxon test two-sided, P_val=0.000e+00 U_stat=1.000e+06\n",
      "Negative-Negative__additive v.s. Negative-Negative__strongest: Mann-Whitney-Wilcoxon test two-sided, P_val=0.000e+00 U_stat=1.000e+06\n",
      "Negative-Negative__mean v.s. Negative-Negative__modified_strongest: Mann-Whitney-Wilcoxon test two-sided, P_val=0.000e+00 U_stat=1.000e+06\n",
      "Negative-Negative__additive v.s. Negative-Negative__modified_strongest: Mann-Whitney-Wilcoxon test two-sided, P_val=0.000e+00 U_stat=1.000e+06\n",
      "Postive-Negative__additive v.s. Postive-Negative__mean: Mann-Whitney-Wilcoxon test two-sided, P_val=0.000e+00 U_stat=0.000e+00\n",
      "Postive-Negative__mean v.s. Postive-Negative__OD_W_mean: Mann-Whitney-Wilcoxon test two-sided, P_val=0.000e+00 U_stat=9.998e+05\n",
      "Postive-Negative__OD_W_mean v.s. Postive-Negative__strongest: Mann-Whitney-Wilcoxon test two-sided, P_val=0.000e+00 U_stat=9.998e+05\n",
      "Postive-Negative__strongest v.s. Postive-Negative__modified_strongest: Mann-Whitney-Wilcoxon test two-sided, P_val=5.959e-217 U_stat=9.060e+05\n",
      "Postive-Negative__additive v.s. Postive-Negative__OD_W_mean: Mann-Whitney-Wilcoxon test two-sided, P_val=0.000e+00 U_stat=0.000e+00\n",
      "Postive-Negative__mean v.s. Postive-Negative__strongest: Mann-Whitney-Wilcoxon test two-sided, P_val=0.000e+00 U_stat=1.000e+06\n",
      "Postive-Negative__OD_W_mean v.s. Postive-Negative__modified_strongest: Mann-Whitney-Wilcoxon test two-sided, P_val=0.000e+00 U_stat=1.000e+06\n",
      "Postive-Negative__additive v.s. Postive-Negative__strongest: Mann-Whitney-Wilcoxon test two-sided, P_val=2.775e-304 U_stat=1.852e+04\n",
      "Postive-Negative__mean v.s. Postive-Negative__modified_strongest: Mann-Whitney-Wilcoxon test two-sided, P_val=0.000e+00 U_stat=1.000e+06\n",
      "Postive-Negative__additive v.s. Postive-Negative__modified_strongest: Mann-Whitney-Wilcoxon test two-sided, P_val=1.921e-159 U_stat=1.526e+05\n",
      "Postive-Postive__additive v.s. Postive-Postive__mean: Mann-Whitney-Wilcoxon test two-sided, P_val=1.241e-02 U_stat=5.323e+05\n",
      "Postive-Postive__mean v.s. Postive-Postive__OD_W_mean: Mann-Whitney-Wilcoxon test two-sided, P_val=7.660e-34 U_stat=6.566e+05\n",
      "Postive-Postive__OD_W_mean v.s. Postive-Postive__strongest: Mann-Whitney-Wilcoxon test two-sided, P_val=3.158e-252 U_stat=9.380e+05\n",
      "Postive-Postive__strongest v.s. Postive-Postive__modified_strongest: Mann-Whitney-Wilcoxon test two-sided, P_val=1.000e+00 U_stat=5.000e+05\n",
      "Postive-Postive__additive v.s. Postive-Postive__OD_W_mean: Mann-Whitney-Wilcoxon test two-sided, P_val=8.183e-43 U_stat=6.771e+05\n",
      "Postive-Postive__mean v.s. Postive-Postive__strongest: Mann-Whitney-Wilcoxon test two-sided, P_val=1.558e-291 U_stat=9.712e+05\n",
      "Postive-Postive__OD_W_mean v.s. Postive-Postive__modified_strongest: Mann-Whitney-Wilcoxon test two-sided, P_val=3.158e-252 U_stat=9.380e+05\n",
      "Postive-Postive__additive v.s. Postive-Postive__strongest: Mann-Whitney-Wilcoxon test two-sided, P_val=5.469e-293 U_stat=9.724e+05\n",
      "Postive-Postive__mean v.s. Postive-Postive__modified_strongest: Mann-Whitney-Wilcoxon test two-sided, P_val=1.558e-291 U_stat=9.712e+05\n",
      "Postive-Postive__additive v.s. Postive-Postive__modified_strongest: Mann-Whitney-Wilcoxon test two-sided, P_val=5.469e-293 U_stat=9.724e+05\n"
     ]
    },
    {
     "data": {
      "image/png": "[encoded data removed]",
      "text/plain": [
       "<Figure size 1080x360 with 3 Axes>"
      ]
     },
     "metadata": {
      "needs_background": "light"
     },
     "output_type": "display_data"
    }
   ],
   "source": [
    "# qm_dict={'-,-':'Negative-Negative','+,-':'Postive-Negative','+,+':'Postive-Postive'}\n",
    "\n",
    "fig, axes = plt.subplots(1,3,figsize=(15,5))\n",
    "\n",
    "sp_counter=1\n",
    "for qm in effects_df.qual_monos.unique():\n",
    "    data=k2_summ_qm_df.loc[:, k2_summ_qm_df.columns.str.startswith(qm_dict[qm])].melt()\n",
    "    g=plt.subplot(1, 3, sp_counter)\n",
    "\n",
    "    g=sns.boxplot(data=data, x='variable', y='value',color='white', fliersize=0)\n",
    "    g=sns.swarmplot(data=data, x='variable', y='value',size=0.5, color='black')\n",
    "    g.set_title(qm_dict[qm])\n",
    "    g.set_xticklabels([\"Add\",\"Mean\",\"OD Mean\",\"Strong\", \"M Strong\"])\n",
    "    g.set_xlabel(\"\")\n",
    "    g.set_ylabel(\"\")\n",
    "    g.set_ylim(0,0.8)\n",
    "    add_stat_annotation(g, data=data, x=\"variable\", y=\"value\",\n",
    "                       box_pairs=list(itertools.combinations([col for col in k2_summ_qm_df if col.startswith(qm_dict[qm])],2)),\n",
    "                       test='Mann-Whitney', text_format='simple', verbose=2, comparisons_correction=None)\n",
    "    sp_counter+=1"
   ]
  },
  {
   "cell_type": "code",
   "execution_count": 78,
   "id": "aee92dcd",
   "metadata": {
    "ExecuteTime": {
     "end_time": "2022-09-08T09:30:53.403779Z",
     "start_time": "2022-09-08T09:30:53.272864Z"
    }
   },
   "outputs": [],
   "source": [
    "k2_summ_df.to_csv('Data/Bootstrap_data/k2_summ_df.csv')\n",
    "k2_summ_qm_df.to_csv('Data/Bootstrap_data/k2_summ_qm_df.csv')\n",
    "k2_summ_focal_df.to_csv('Data/Bootstrap_data/k2_summ_focal_df.csv')"
   ]
  },
  {
   "cell_type": "markdown",
   "id": "5e4b269d",
   "metadata": {
    "id": "5e4b269d"
   },
   "source": [
    "# Trios with E coli Focal"
   ]
  },
  {
   "cell_type": "markdown",
   "id": "4d04656b",
   "metadata": {
    "id": "4d04656b"
   },
   "source": [
    "## Setup\n",
    "### Load and normalize data from all chips"
   ]
  },
  {
   "cell_type": "code",
   "execution_count": 17,
   "id": "02f371f6",
   "metadata": {
    "ExecuteTime": {
     "end_time": "2022-09-07T01:28:09.936549Z",
     "start_time": "2022-09-07T01:28:08.765420Z"
    },
    "id": "02f371f6"
   },
   "outputs": [],
   "source": [
    "#redefine timepoints without t3 for this experiment\n",
    "timepoints=['t0','t1','t2']\n",
    "\n",
    "\n",
    "#Import data\n",
    "path=\"Data/kChip_data/k3/\"\n",
    "c1=pd.read_csv(path+'chip1.csv')[[\"t0\", \"t1\",\"t2\",\"sample1\",\"sample2\",\"sample3\"]].dropna()\n",
    "c2=pd.read_csv(path+'chip2.csv')[[\"t0\", \"t1\",\"t2\",\"sample1\",\"sample2\",\"sample3\"]].dropna()\n",
    "c3=pd.read_csv(path+'chip3.csv')[[\"t0\", \"t1\",\"t2\",\"sample1\",\"sample2\",\"sample3\"]].dropna()\n",
    "\n",
    "#label each chip seperately and merge to one dataset\n",
    "c1['chip']='A'\n",
    "c2['chip']='B'\n",
    "c3['chip']='C'\n",
    "k3=c1.append(c2).append(c3)\n",
    "\n",
    "#normalize to t0\n",
    "k3[timepoints]=k3[timepoints].sub(k3['t0'], axis=0)\n",
    "k3[timepoints]=k3[timepoints].clip(lower=1).round(3)\n",
    "k3=k3.replace(r_phylo_dict)\n"
   ]
  },
  {
   "cell_type": "code",
   "execution_count": 18,
   "id": "9664c487",
   "metadata": {
    "ExecuteTime": {
     "end_time": "2022-09-07T01:28:09.952484Z",
     "start_time": "2022-09-07T01:28:09.940100Z"
    },
    "id": "9664c487",
    "scrolled": true
   },
   "outputs": [],
   "source": [
    "def pair_effects(row):\n",
    "    \n",
    "    try:\n",
    "        row['pair_12_effect']=pair_effect_dict[\"['\"+row['sample1']+\"', '\"\n",
    "                                               +row['sample2']+\"']\"]\n",
    "    except KeyError:\n",
    "        try:\n",
    "            row['pair_12_effect']=pair_effect_dict[\"['\"+row['sample2']+\"', '\"\n",
    "                                               +row['sample1']+\"']\"]\n",
    "        except KeyError: row['pair_12_effect']=np.nan\n",
    "            \n",
    "    try:\n",
    "        row['pair_13_effect']=pair_effect_dict[\"['\"+row['sample1']+\"', '\"\n",
    "                                               +row['sample3']+\"']\"]\n",
    "    except KeyError:\n",
    "        try:\n",
    "            row['pair_13_effect']=pair_effect_dict[\"['\"+row['sample3']+\"', '\"\n",
    "                                               +row['sample1']+\"']\"]\n",
    "        except KeyError: row['pair_13_effect']=np.nan\n",
    "            \n",
    "    try:\n",
    "        row['pair_23_effect']=pair_effect_dict[\"['\"+row['sample3']+\"', '\"\n",
    "                                               +row['sample2']+\"']\"]\n",
    "    except KeyError:\n",
    "        try:\n",
    "            row['pair_23_effect']=pair_effect_dict[\"['\"+row['sample2']+\"', '\"\n",
    "                                               +row['sample3']+\"']\"]\n",
    "        except KeyError: row['pair_23_effect']=np.nan\n",
    "            \n",
    "    row['additive_p']= row[\"pair_12_effect\"]+row[\"pair_13_effect\"]+row[\"pair_23_effect\"]\n",
    "    row['mean_p']= mean(row[['pair_12_effect', 'pair_13_effect','pair_23_effect']])\n",
    "    row['strongest_p']=max(row[['pair_12_effect', 'pair_13_effect','pair_23_effect']], key=abs)\n",
    "                           \n",
    "    return row"
   ]
  },
  {
   "cell_type": "markdown",
   "id": "a6665eba",
   "metadata": {
    "id": "a6665eba"
   },
   "source": [
    "## Orginzing and calculating data"
   ]
  },
  {
   "cell_type": "markdown",
   "id": "46052b2a",
   "metadata": {
    "id": "46052b2a"
   },
   "source": [
    "### Calculating effect by trio- orginal dataset"
   ]
  },
  {
   "cell_type": "code",
   "execution_count": 19,
   "id": "55fe1164",
   "metadata": {
    "ExecuteTime": {
     "end_time": "2022-09-07T01:28:12.556031Z",
     "start_time": "2022-09-07T01:28:09.958438Z"
    }
   },
   "outputs": [],
   "source": [
    "\n",
    "#Agregate mono growth from mono and mono+blank wells\n",
    "mono_df=pd.DataFrame(columns=list(k3))\n",
    "for i in list(itertools.product(['Mono1','Blank1'],repeat=3))[:-1]:\n",
    "    data=k3[(k3['sample1']==i[0])&(k3['sample2']==i[1])&(k3['sample3']==i[2])]\n",
    "    mono_df=mono_df.append(data)\n",
    "    \n",
    "focal_mono_median=mono_df.t1.median()\n",
    "\n",
    "k3_wB=k3.copy()\n",
    "\n",
    "k3_wB.sample1=k3_wB.sample1.replace(['Blank1'], np.nan)\n",
    "k3_wB.sample2=k3_wB.sample2.replace(['Blank1'], np.nan)\n",
    "k3_wB.sample3=k3_wB.sample3.replace(['Blank1'], np.nan)\n",
    "\n",
    "k3_wB.sample1 = k3_wB.sample1.fillna(k3_wB.sample2)\n",
    "k3_wB.sample1 = k3_wB.sample1.fillna(k3_wB.sample3)\n",
    "\n",
    "k3_wB.sample2 = k3_wB.sample2.fillna(k3_wB.sample1)\n",
    "k3_wB.sample2 = k3_wB.sample2.fillna(k3_wB.sample3)\n",
    "\n",
    "k3_wB.sample3 = k3_wB.sample3.fillna(k3_wB.sample1)\n",
    "k3_wB.sample3 = k3_wB.sample3.fillna(k3_wB.sample2)\n",
    "\n",
    "k3_wB[['sample1','sample2','sample3']]=k3_wB[['sample1','sample2',\n",
    "                                                          'sample3']].fillna('Blank1')\n",
    "\n",
    "k3_wB_bs=k3_wB.sample(len(k3), replace=False)\n",
    "\n",
    "k3_effect_data=k3_wB_bs.groupby(['sample1','sample2','sample3'], \n",
    "                         as_index=False)['t1'].median()\n",
    "\n",
    "k3_effect_data['combined_effect']=log(k3_effect_data['t1']/focal_mono_median)\n",
    "\n",
    "k3_effect_data['Count']=k3_wB_bs.groupby(['sample1', 'sample2','sample3'], \n",
    "                                  as_index=False)['t1'].count()['t1']\n",
    "\n",
    "#add data for each bug on its own\n",
    "mono=(k3_effect_data[(k3_effect_data.sample1==k3_effect_data.sample2)&\n",
    "                  (k3_effect_data.sample1==k3_effect_data.sample3)][['sample1','combined_effect', \n",
    "                                                               'Count']]\n",
    "       .rename(columns={'combined_effect':'effect'}))\n",
    "mono['qual_e'] = np.where(mono['effect'] > 0, '+', '-')\n",
    "mono['max_od'] = mono.sample1.map(max_od_dict)\n",
    "\n",
    "\n",
    "monos1=mono.add_prefix('mono_s1_')\n",
    "k3_effect_data=k3_effect_data.merge(monos1, how='left', left_on='sample1',\n",
    "                              right_on='mono_s1_sample1').drop('mono_s1_sample1',\n",
    "                                                               axis=1)\n",
    "\n",
    "monos2=mono.add_prefix('mono_s2_')\n",
    "k3_effect_data=k3_effect_data.merge(monos2, how='left', left_on='sample2',\n",
    "                              right_on='mono_s2_sample1').drop('mono_s2_sample1',\n",
    "                                                               axis=1)\n",
    "\n",
    "monos3=mono.add_prefix('mono_s3_')\n",
    "k3_effect_data=k3_effect_data.merge(monos3, how='left', left_on='sample3',\n",
    "                              right_on='mono_s3_sample1').drop('mono_s3_sample1',\n",
    "                                                               axis=1)\n",
    "\n",
    "\n",
    "k3_effect_data['additive_s']=(k3_effect_data[\"mono_s1_effect\"]+\n",
    "                            k3_effect_data[\"mono_s2_effect\"]+\n",
    "                            k3_effect_data[\"mono_s3_effect\"])\n",
    "\n",
    "k3_effect_data['mean_s']=mean(k3_effect_data[[\"mono_s1_effect\",\"mono_s2_effect\",\"mono_s3_effect\"]],axis=1)\n",
    "\n",
    "k3_effect_data['strongest_s'] = k3_effect_data.apply(lambda x: max(x[[\"mono_s1_effect\",\"mono_s2_effect\",\n",
    "                                                                    \"mono_s3_effect\"]],key=abs), axis=1)\n",
    "\n",
    "k3_effect_data['OD_W_mean']=(((k3_effect_data[\"mono_s1_effect\"]*k3_effect_data[\"mono_s1_max_od\"])+\n",
    "                              (k3_effect_data[\"mono_s2_effect\"]*k3_effect_data[\"mono_s2_max_od\"])+\n",
    "                              (k3_effect_data[\"mono_s3_effect\"]*k3_effect_data[\"mono_s3_max_od\"]))/\n",
    "                              sum(k3_effect_data[[\"mono_s1_max_od\",\"mono_s2_max_od\",\"mono_s3_max_od\"]],axis=1))\n",
    "\n",
    "\n",
    "original_k3=k3_effect_data[k3_effect_data['Count']>2]\n"
   ]
  },
  {
   "cell_type": "code",
   "execution_count": 21,
   "id": "dd6b83ff",
   "metadata": {
    "ExecuteTime": {
     "end_time": "2022-09-07T03:32:51.823097Z",
     "start_time": "2022-09-07T03:32:36.362867Z"
    }
   },
   "outputs": [],
   "source": [
    "for r in original_k3.index:\n",
    "    row=original_k3.loc[r]\n",
    "\n",
    "    if ((row.sample1!=row.sample2)&\n",
    "        (row.sample1!=row.sample3)&\n",
    "        (row.sample2!=row.sample3)&\n",
    "        (row.sample1!='Mono1')&(row.sample2!='Mono1')&(row.sample3!='Mono1')):\n",
    "\n",
    "        original_k3.at[r,'comm_size']='trio'\n",
    "\n",
    "    elif(((row.sample1==row.sample2)&(row.sample1!=row.sample3)&\n",
    "          (row.sample1!='Mono1')&(row.sample3!='Mono1'))|\n",
    "\n",
    "         ((row.sample1==row.sample3)&(row.sample1!=row.sample2)&\n",
    "          (row.sample1!='Mono1')&(row.sample2!='Mono1'))|\n",
    "\n",
    "         ((row.sample2==row.sample3)&(row.sample2!=row.sample1)&\n",
    "          (row.sample1!='Mono1')&(row.sample3!='Mono1'))|\n",
    "\n",
    "         ((row.sample1=='Mono1')&(row.sample2!='Mono1')&\n",
    "          (row.sample3!='Mono1')&(row.sample2!=row.sample3))|\n",
    "         ((row.sample2=='Mono1')&(row.sample1!='Mono1')&\n",
    "          (row.sample3!='Mono1')&(row.sample1!=row.sample3))|\n",
    "         ((row.sample3=='Mono1')&(row.sample2!='Mono1')&\n",
    "          (row.sample1!='Mono1')&(row.sample2!=row.sample1))):\n",
    "\n",
    "        original_k3.at[r,'comm_size']='pair'\n",
    "\n",
    "    else: original_k3.at[r,'comm_size']='single'\n",
    "\n",
    "#calculate pair effects\n",
    "pair_data=original_k3[original_k3.comm_size=='pair']\n",
    "\n",
    "#merge wells with monos with wells without \n",
    "pair_data[['sample1','sample2','sample3',]]=pair_data[['sample1','sample2','sample3',]].replace(['Mono1'], np.nan)\n",
    "\n",
    "pair_data.sample1 = pair_data.sample1.fillna(pair_data.sample2)\n",
    "pair_data.sample1 = pair_data.sample1.fillna(pair_data.sample3)\n",
    "\n",
    "pair_data.sample2 = pair_data.sample2.fillna(pair_data.sample1)\n",
    "pair_data.sample2 = pair_data.sample2.fillna(pair_data.sample3)\n",
    "\n",
    "pair_data.sample3 = pair_data.sample3.fillna(pair_data.sample1)\n",
    "pair_data.sample3 = pair_data.sample3.fillna(pair_data.sample2)\n",
    "\n",
    "#add column for with pair for each row\n",
    "pair_data['trio'] =((pair_data[['sample1','sample2','sample3']]).values.tolist())\n",
    "pair_data['pair'] = pair_data.apply(lambda x: sorted(list(set(x['trio']))),axis=1)\n",
    "pair_data['pair'] = pair_data.apply(lambda x: (str(x['pair'])),axis=1)\n",
    "pair_data['trio'] = pair_data.apply(lambda x: (str(x['trio'])),axis=1)\n",
    "\n",
    "#organize data for comparison between diff starting densities\n",
    "melted=pair_data.melt(id_vars=['pair'], value_vars=['combined_effect'],)\n",
    "pair_pairs=pd.DataFrame(columns=['pair','ratio1','ratio2','ratio3'],index=range(len(list(melted.pair.unique()))))\n",
    "\n",
    "#new dataset with 2:1 and 1:2 ratios in each row\n",
    "for n,ii in enumerate(list(melted.pair.unique())):\n",
    "    if len(melted[melted.pair==ii])==3:\n",
    "        pair_pairs.loc[n]['pair']=ii\n",
    "        pair_pairs.loc[n]['ratio1']=(list((melted[melted.pair==ii]).value))[0]\n",
    "        pair_pairs.loc[n]['ratio2']=(list((melted[melted.pair==ii]).value))[1]\n",
    "        pair_pairs.loc[n]['ratio3']=(list((melted[melted.pair==ii]).value))[2]\n",
    "    elif len(melted[melted.pair==i])==2:\n",
    "        pair_pairs.loc[n]['pair']=ii\n",
    "        pair_pairs.loc[n]['ratio1']=(list((melted[melted.pair==ii]).value))[0]\n",
    "        pair_pairs.loc[n]['ratio2']=(list((melted[melted.pair==ii]).value))[1]\n",
    "\n",
    "    #16 pairs only have one ratio, but are included here to use in the dictionary downstream \n",
    "    elif len(melted[melted.pair==ii])==1:\n",
    "        pair_pairs.loc[n]['pair']=i\n",
    "        pair_pairs.loc[n]['ratio1']=(list((melted[melted.pair==ii]).value))[0]\n",
    "        pair_pairs.loc[n]['ratio2']=(list((melted[melted.pair==ii]).value))[0]\n",
    "\n",
    "    else: continue\n",
    "\n",
    "pair_effect_dict=melted.groupby('pair').mean()['value'].to_dict()\n",
    "\n",
    "#calculate trio predictoins based on pairs\n",
    "original_k3=original_k3.apply(pair_effects,axis=1)  \n"
   ]
  },
  {
   "cell_type": "code",
   "execution_count": 22,
   "id": "c4704121",
   "metadata": {
    "ExecuteTime": {
     "end_time": "2022-09-07T03:32:51.917039Z",
     "start_time": "2022-09-07T03:32:51.825144Z"
    }
   },
   "outputs": [
    {
     "name": "stdout",
     "output_type": "stream",
     "text": [
      "Mean\n",
      "additive_s     2.855\n",
      "mean_s         1.318\n",
      "OD_W_mean      1.011\n",
      "strongest_s    0.508\n",
      "additive_p     4.794\n",
      "mean_p         0.616\n",
      "strongest_p    0.418\n",
      "dtype: float64\n"
     ]
    }
   ],
   "source": [
    "k3_summ_original=pd.DataFrame(columns=['additive_s','mean_s','OD_W_mean','strongest_s',\n",
    "                                 'additive_p','mean_p','strongest_p'])\n",
    "counter=0\n",
    "for v in ['additive_s','mean_s','OD_W_mean','strongest_s',\n",
    "          'additive_p','mean_p','strongest_p']:\n",
    "    effects_df=original_k3[original_k3.comm_size=='trio']\n",
    "    effects_df2=effects_df[[v,'combined_effect']].dropna()\n",
    "    iqr=sp.stats.iqr(effects_df2.combined_effect)\n",
    "\n",
    "    k3_summ_original.at[counter, v]=(((mean_squared_error(effects_df2[v],effects_df2['combined_effect']))**0.5)/iqr)\n",
    "        \n",
    "counter+=1 \n",
    "\n",
    "print(\"Mean\")\n",
    "print(k3_summ_original.mean().round(3))\n"
   ]
  },
  {
   "cell_type": "markdown",
   "id": "04e4b21a",
   "metadata": {},
   "source": [
    "### Calculating effect by trio- Bootstrapping"
   ]
  },
  {
   "cell_type": "code",
   "execution_count": 23,
   "id": "a0a5d572",
   "metadata": {
    "ExecuteTime": {
     "end_time": "2022-09-07T04:04:56.257964Z",
     "start_time": "2022-09-07T03:32:56.917991Z"
    },
    "id": "a0a5d572"
   },
   "outputs": [],
   "source": [
    "repeats=1001\n",
    "k3_effects_dict={}\n",
    "\n",
    "        \n",
    "#Agregate mono growth from mono and mono+blank wells\n",
    "mono_df=pd.DataFrame(columns=list(k3))\n",
    "for i in list(itertools.product(['Mono1','Blank1'],repeat=3))[:-1]:\n",
    "    data=k3[(k3['sample1']==i[0])&(k3['sample2']==i[1])&(k3['sample3']==i[2])]\n",
    "    mono_df=mono_df.append(data)\n",
    "    \n",
    "focal_mono_median=mono_df.t1.median()\n",
    "\n",
    "k3_wB=k3.copy()\n",
    "\n",
    "k3_wB.sample1=k3_wB.sample1.replace(['Blank1'], np.nan)\n",
    "k3_wB.sample2=k3_wB.sample2.replace(['Blank1'], np.nan)\n",
    "k3_wB.sample3=k3_wB.sample3.replace(['Blank1'], np.nan)\n",
    "\n",
    "k3_wB.sample1 = k3_wB.sample1.fillna(k3_wB.sample2)\n",
    "k3_wB.sample1 = k3_wB.sample1.fillna(k3_wB.sample3)\n",
    "\n",
    "k3_wB.sample2 = k3_wB.sample2.fillna(k3_wB.sample1)\n",
    "k3_wB.sample2 = k3_wB.sample2.fillna(k3_wB.sample3)\n",
    "\n",
    "k3_wB.sample3 = k3_wB.sample3.fillna(k3_wB.sample1)\n",
    "k3_wB.sample3 = k3_wB.sample3.fillna(k3_wB.sample2)\n",
    "\n",
    "k3_wB[['sample1','sample2','sample3']]=k3_wB[['sample1','sample2',\n",
    "                                                          'sample3']].fillna('Blank1')\n",
    "\n",
    "for i in range(1,repeats):\n",
    "\n",
    "    k3_wB_bs=k3_wB.sample(len(k3), replace=True, random_state=i)\n",
    "\n",
    "    k3_effect_data=k3_wB_bs.groupby(['sample1','sample2','sample3'], \n",
    "                             as_index=False)['t1'].median()\n",
    "\n",
    "    k3_effect_data['combined_effect']=log(k3_effect_data['t1']/focal_mono_median)\n",
    "\n",
    "    k3_effect_data['Count']=k3_wB_bs.groupby(['sample1', 'sample2','sample3'], \n",
    "                                      as_index=False)['t1'].count()['t1']\n",
    "\n",
    "    #add data for each bug on its own\n",
    "    mono=(k3_effect_data[(k3_effect_data.sample1==k3_effect_data.sample2)&\n",
    "                      (k3_effect_data.sample1==k3_effect_data.sample3)][['sample1','combined_effect', \n",
    "                                                                   'Count']]\n",
    "           .rename(columns={'combined_effect':'effect'}))\n",
    "    mono['qual_e'] = np.where(mono['effect'] > 0, '+', '-')\n",
    "    mono['max_od'] = mono.sample1.map(max_od_dict)\n",
    "\n",
    "\n",
    "    monos1=mono.add_prefix('mono_s1_')\n",
    "    k3_effect_data=k3_effect_data.merge(monos1, how='left', left_on='sample1',\n",
    "                                  right_on='mono_s1_sample1').drop('mono_s1_sample1',\n",
    "                                                                   axis=1)\n",
    "\n",
    "    monos2=mono.add_prefix('mono_s2_')\n",
    "    k3_effect_data=k3_effect_data.merge(monos2, how='left', left_on='sample2',\n",
    "                                  right_on='mono_s2_sample1').drop('mono_s2_sample1',\n",
    "                                                                   axis=1)\n",
    "\n",
    "    monos3=mono.add_prefix('mono_s3_')\n",
    "    k3_effect_data=k3_effect_data.merge(monos3, how='left', left_on='sample3',\n",
    "                                  right_on='mono_s3_sample1').drop('mono_s3_sample1',\n",
    "                                                                   axis=1)\n",
    "\n",
    "\n",
    "    k3_effect_data['additive_s']=(k3_effect_data[\"mono_s1_effect\"]+\n",
    "                                k3_effect_data[\"mono_s2_effect\"]+\n",
    "                                k3_effect_data[\"mono_s3_effect\"])\n",
    "\n",
    "    k3_effect_data['mean_s']=mean(k3_effect_data[[\"mono_s1_effect\",\"mono_s2_effect\",\"mono_s3_effect\"]],axis=1)\n",
    "\n",
    "    k3_effect_data['strongest_s'] = k3_effect_data.apply(lambda x: max(x[[\"mono_s1_effect\",\"mono_s2_effect\",\n",
    "                                                                        \"mono_s3_effect\"]],key=abs), axis=1)\n",
    "    \n",
    "    k3_effect_data['OD_W_mean']=(((k3_effect_data[\"mono_s1_effect\"]*k3_effect_data[\"mono_s1_max_od\"])+\n",
    "                                  (k3_effect_data[\"mono_s2_effect\"]*k3_effect_data[\"mono_s2_max_od\"])+\n",
    "                                  (k3_effect_data[\"mono_s3_effect\"]*k3_effect_data[\"mono_s3_max_od\"]))/\n",
    "                                  sum(k3_effect_data[[\"mono_s1_max_od\",\"mono_s2_max_od\",\"mono_s3_max_od\"]],axis=1))\n",
    "\n",
    "\n",
    "    k3_effects_dict[i]=k3_effect_data[k3_effect_data['Count']>2]\n"
   ]
  },
  {
   "cell_type": "code",
   "execution_count": 24,
   "id": "eb380091",
   "metadata": {
    "ExecuteTime": {
     "end_time": "2022-09-07T09:33:52.967428Z",
     "start_time": "2022-09-07T04:04:56.257964Z"
    },
    "id": "eb380091"
   },
   "outputs": [],
   "source": [
    "for i in range(1,repeats):\n",
    "    #call each bootstrap individually\n",
    "    temp_data=k3_effects_dict[i]\n",
    "    \n",
    "    #add comm_size column\n",
    "    for r in temp_data.index:\n",
    "        row=temp_data.loc[r]\n",
    "\n",
    "        if ((row.sample1!=row.sample2)&\n",
    "            (row.sample1!=row.sample3)&\n",
    "            (row.sample2!=row.sample3)&\n",
    "            (row.sample1!='Mono1')&(row.sample2!='Mono1')&(row.sample3!='Mono1')):\n",
    "\n",
    "            temp_data.at[r,'comm_size']='trio'\n",
    "\n",
    "        elif(((row.sample1==row.sample2)&(row.sample1!=row.sample3)&\n",
    "              (row.sample1!='Mono1')&(row.sample3!='Mono1'))|\n",
    "\n",
    "             ((row.sample1==row.sample3)&(row.sample1!=row.sample2)&\n",
    "              (row.sample1!='Mono1')&(row.sample2!='Mono1'))|\n",
    "\n",
    "             ((row.sample2==row.sample3)&(row.sample2!=row.sample1)&\n",
    "              (row.sample1!='Mono1')&(row.sample3!='Mono1'))|\n",
    "\n",
    "             ((row.sample1=='Mono1')&(row.sample2!='Mono1')&\n",
    "              (row.sample3!='Mono1')&(row.sample2!=row.sample3))|\n",
    "             ((row.sample2=='Mono1')&(row.sample1!='Mono1')&\n",
    "              (row.sample3!='Mono1')&(row.sample1!=row.sample3))|\n",
    "             ((row.sample3=='Mono1')&(row.sample2!='Mono1')&\n",
    "              (row.sample1!='Mono1')&(row.sample2!=row.sample1))):\n",
    "                \n",
    "            temp_data.at[r,'comm_size']='pair'\n",
    "\n",
    "        else: temp_data.at[r,'comm_size']='single'\n",
    "\n",
    "    #calculate pair effects\n",
    "    pair_data=temp_data[temp_data.comm_size=='pair']\n",
    "    \n",
    "    #merge wells with monos with wells without \n",
    "    pair_data[['sample1','sample2','sample3',]]=pair_data[['sample1','sample2','sample3',]].replace(['Mono1'], np.nan)\n",
    "\n",
    "    pair_data.sample1 = pair_data.sample1.fillna(pair_data.sample2)\n",
    "    pair_data.sample1 = pair_data.sample1.fillna(pair_data.sample3)\n",
    "\n",
    "    pair_data.sample2 = pair_data.sample2.fillna(pair_data.sample1)\n",
    "    pair_data.sample2 = pair_data.sample2.fillna(pair_data.sample3)\n",
    "\n",
    "    pair_data.sample3 = pair_data.sample3.fillna(pair_data.sample1)\n",
    "    pair_data.sample3 = pair_data.sample3.fillna(pair_data.sample2)\n",
    "\n",
    "    #add column for with pair for each row\n",
    "    pair_data['trio'] =((pair_data[['sample1','sample2','sample3']]).values.tolist())\n",
    "    pair_data['pair'] = pair_data.apply(lambda x: sorted(list(set(x['trio']))),axis=1)\n",
    "    pair_data['pair'] = pair_data.apply(lambda x: (str(x['pair'])),axis=1)\n",
    "    pair_data['trio'] = pair_data.apply(lambda x: (str(x['trio'])),axis=1)\n",
    "\n",
    "    #organize data for comparison between diff starting densities\n",
    "    melted=pair_data.melt(id_vars=['pair'], value_vars=['combined_effect'],)\n",
    "    pair_pairs=pd.DataFrame(columns=['pair','ratio1','ratio2','ratio3'],index=range(len(list(melted.pair.unique()))))\n",
    "\n",
    "    #new dataset with 2:1 and 1:2 ratios in each row\n",
    "    for n,ii in enumerate(list(melted.pair.unique())):\n",
    "        if len(melted[melted.pair==ii])==3:\n",
    "            pair_pairs.loc[n]['pair']=ii\n",
    "            pair_pairs.loc[n]['ratio1']=(list((melted[melted.pair==ii]).value))[0]\n",
    "            pair_pairs.loc[n]['ratio2']=(list((melted[melted.pair==ii]).value))[1]\n",
    "            pair_pairs.loc[n]['ratio3']=(list((melted[melted.pair==ii]).value))[2]\n",
    "        elif len(melted[melted.pair==i])==2:\n",
    "            pair_pairs.loc[n]['pair']=ii\n",
    "            pair_pairs.loc[n]['ratio1']=(list((melted[melted.pair==ii]).value))[0]\n",
    "            pair_pairs.loc[n]['ratio2']=(list((melted[melted.pair==ii]).value))[1]\n",
    "    \n",
    "        #16 pairs only have one ratio, but are included here to use in the dictionary downstream \n",
    "        elif len(melted[melted.pair==ii])==1:\n",
    "            pair_pairs.loc[n]['pair']=i\n",
    "            pair_pairs.loc[n]['ratio1']=(list((melted[melted.pair==ii]).value))[0]\n",
    "            pair_pairs.loc[n]['ratio2']=(list((melted[melted.pair==ii]).value))[0]\n",
    "\n",
    "        else: continue\n",
    "\n",
    "    pair_effect_dict=melted.groupby('pair').mean()['value'].to_dict()\n",
    "    \n",
    "    #calculate trio predictoins based on pairs\n",
    "    k3_effects_dict[i]=temp_data.apply(pair_effects,axis=1)  \n"
   ]
  },
  {
   "cell_type": "code",
   "execution_count": 25,
   "id": "9b9b78c7",
   "metadata": {
    "ExecuteTime": {
     "end_time": "2022-09-07T09:34:34.484858Z",
     "start_time": "2022-09-07T09:33:52.975442Z"
    },
    "id": "9b9b78c7",
    "outputId": "d388cb47-09d8-4538-c24a-07e604285da4"
   },
   "outputs": [],
   "source": [
    "k3_summ_df=pd.DataFrame(columns=['additive_s','mean_s','OD_W_mean','strongest_s',\n",
    "                                 'additive_p','mean_p','strongest_p'])\n",
    "counter=0\n",
    "for effects_df in k3_effects_dict.values():\n",
    "    for v in ['additive_s','mean_s','OD_W_mean','strongest_s',\n",
    "              'additive_p','mean_p','strongest_p']:\n",
    "        effects_df=effects_df[effects_df.comm_size=='trio']\n",
    "        effects_df2=effects_df[[v,'combined_effect']].dropna()\n",
    "        iqr=sp.stats.iqr(effects_df2.combined_effect)\n",
    "        \n",
    "        k3_summ_df.at[counter, v]=(((mean_squared_error(effects_df2[v],effects_df2['combined_effect']))**0.5)/iqr)\n",
    "        \n",
    "    counter+=1    "
   ]
  },
  {
   "cell_type": "code",
   "execution_count": 81,
   "id": "0d9014e1",
   "metadata": {
    "ExecuteTime": {
     "end_time": "2022-09-08T09:33:34.548906Z",
     "start_time": "2022-09-08T09:33:34.494457Z"
    },
    "scrolled": true
   },
   "outputs": [
    {
     "data": {
      "text/html": [
       "<div>\n",
       "<style scoped>\n",
       "    .dataframe tbody tr th:only-of-type {\n",
       "        vertical-align: middle;\n",
       "    }\n",
       "\n",
       "    .dataframe tbody tr th {\n",
       "        vertical-align: top;\n",
       "    }\n",
       "\n",
       "    .dataframe thead th {\n",
       "        text-align: right;\n",
       "    }\n",
       "</style>\n",
       "<table border=\"1\" class=\"dataframe\">\n",
       "  <thead>\n",
       "    <tr style=\"text-align: right;\">\n",
       "      <th></th>\n",
       "      <th>original</th>\n",
       "      <th>mean</th>\n",
       "      <th>median</th>\n",
       "      <th>std</th>\n",
       "      <th>CoV</th>\n",
       "    </tr>\n",
       "  </thead>\n",
       "  <tbody>\n",
       "    <tr>\n",
       "      <th>additive_s</th>\n",
       "      <td>2.855</td>\n",
       "      <td>2.671</td>\n",
       "      <td>2.655</td>\n",
       "      <td>0.158</td>\n",
       "      <td>0.059</td>\n",
       "    </tr>\n",
       "    <tr>\n",
       "      <th>mean_s</th>\n",
       "      <td>1.318</td>\n",
       "      <td>1.229</td>\n",
       "      <td>1.229</td>\n",
       "      <td>0.043</td>\n",
       "      <td>0.035</td>\n",
       "    </tr>\n",
       "    <tr>\n",
       "      <th>OD_W_mean</th>\n",
       "      <td>1.011</td>\n",
       "      <td>0.992</td>\n",
       "      <td>0.991</td>\n",
       "      <td>0.030</td>\n",
       "      <td>0.030</td>\n",
       "    </tr>\n",
       "    <tr>\n",
       "      <th>strongest_s</th>\n",
       "      <td>0.508</td>\n",
       "      <td>0.657</td>\n",
       "      <td>0.630</td>\n",
       "      <td>0.074</td>\n",
       "      <td>0.113</td>\n",
       "    </tr>\n",
       "    <tr>\n",
       "      <th>additive_p</th>\n",
       "      <td>4.794</td>\n",
       "      <td>4.328</td>\n",
       "      <td>4.329</td>\n",
       "      <td>0.071</td>\n",
       "      <td>0.016</td>\n",
       "    </tr>\n",
       "    <tr>\n",
       "      <th>mean_p</th>\n",
       "      <td>0.616</td>\n",
       "      <td>0.673</td>\n",
       "      <td>0.672</td>\n",
       "      <td>0.016</td>\n",
       "      <td>0.023</td>\n",
       "    </tr>\n",
       "    <tr>\n",
       "      <th>strongest_p</th>\n",
       "      <td>0.418</td>\n",
       "      <td>0.569</td>\n",
       "      <td>0.566</td>\n",
       "      <td>0.025</td>\n",
       "      <td>0.044</td>\n",
       "    </tr>\n",
       "  </tbody>\n",
       "</table>\n",
       "</div>"
      ],
      "text/plain": [
       "             original   mean  median    std    CoV\n",
       "additive_s      2.855  2.671   2.655  0.158  0.059\n",
       "mean_s          1.318  1.229   1.229  0.043  0.035\n",
       "OD_W_mean       1.011  0.992   0.991  0.030  0.030\n",
       "strongest_s     0.508  0.657   0.630  0.074  0.113\n",
       "additive_p      4.794  4.328   4.329  0.071  0.016\n",
       "mean_p          0.616  0.673   0.672  0.016  0.023\n",
       "strongest_p     0.418  0.569   0.566  0.025  0.044"
      ]
     },
     "execution_count": 81,
     "metadata": {},
     "output_type": "execute_result"
    }
   ],
   "source": [
    "k3_sumsum=pd.DataFrame()\n",
    "k3_sumsum['original']=(k3_summ_original.mean().round(3))\n",
    "k3_sumsum['mean']=(k3_summ_df.mean().round(3))\n",
    "k3_sumsum['mean']=(k3_summ_df.mean().round(3))\n",
    "k3_sumsum['median']=(k3_summ_df.median().round(3))\n",
    "k3_sumsum['std']=(k3_summ_df.std().round(3))\n",
    "k3_sumsum['CoV']=((k3_summ_df.std()/k3_summ_df.mean()).round(3))\n",
    "k3_sumsum\n"
   ]
  },
  {
   "cell_type": "code",
   "execution_count": 27,
   "id": "01b3b4e0",
   "metadata": {
    "ExecuteTime": {
     "end_time": "2022-09-07T09:34:34.784654Z",
     "start_time": "2022-09-07T09:34:34.550847Z"
    }
   },
   "outputs": [
    {
     "data": {
      "text/plain": [
       "<AxesSubplot:>"
      ]
     },
     "execution_count": 27,
     "metadata": {},
     "output_type": "execute_result"
    },
    {
     "data": {
      "image/png": "[encoded data removed]",
      "text/plain": [
       "<Figure size 432x288 with 1 Axes>"
      ]
     },
     "metadata": {
      "needs_background": "light"
     },
     "output_type": "display_data"
    }
   ],
   "source": [
    "k3_summ_df.strongest_p.hist()"
   ]
  },
  {
   "cell_type": "code",
   "execution_count": 28,
   "id": "207535fa",
   "metadata": {
    "ExecuteTime": {
     "end_time": "2022-09-07T09:34:57.384626Z",
     "start_time": "2022-09-07T09:34:34.788594Z"
    },
    "id": "207535fa",
    "outputId": "b270b705-419f-4393-f36d-3debbaf97fda"
   },
   "outputs": [
    {
     "name": "stdout",
     "output_type": "stream",
     "text": [
      "additive_s v.s. mean_s: Mann-Whitney-Wilcoxon test two-sided, P_val=0.000e+00 U_stat=1.000e+06\n",
      "mean_s v.s. OD_W_mean: Mann-Whitney-Wilcoxon test two-sided, P_val=0.000e+00 U_stat=9.998e+05\n",
      "OD_W_mean v.s. strongest_s: Mann-Whitney-Wilcoxon test two-sided, P_val=0.000e+00 U_stat=9.998e+05\n",
      "additive_s v.s. OD_W_mean: Mann-Whitney-Wilcoxon test two-sided, P_val=0.000e+00 U_stat=1.000e+06\n",
      "mean_s v.s. strongest_s: Mann-Whitney-Wilcoxon test two-sided, P_val=0.000e+00 U_stat=1.000e+06\n",
      "additive_s v.s. strongest_s: Mann-Whitney-Wilcoxon test two-sided, P_val=0.000e+00 U_stat=1.000e+06\n",
      "additive_p v.s. mean_p: Mann-Whitney-Wilcoxon test two-sided, P_val=0.000e+00 U_stat=1.000e+06\n",
      "mean_p v.s. strongest_p: Mann-Whitney-Wilcoxon test two-sided, P_val=0.000e+00 U_stat=9.900e+05\n",
      "additive_p v.s. strongest_p: Mann-Whitney-Wilcoxon test two-sided, P_val=0.000e+00 U_stat=1.000e+06\n"
     ]
    },
    {
     "data": {
      "image/png": "[encoded data removed]",
      "text/plain": [
       "<Figure size 1080x576 with 1 Axes>"
      ]
     },
     "metadata": {
      "needs_background": "light"
     },
     "output_type": "display_data"
    }
   ],
   "source": [
    "fig, axes = plt.subplots(1,1,figsize=(15,8))\n",
    "\n",
    "data=k3_summ_df.melt()\n",
    "\n",
    "\n",
    "ax=sns.boxplot(data=data, x='variable', y='value',color='white', fliersize=0)\n",
    "ax=sns.swarmplot(data=data, x='variable', y='value',size=1, color='black')\n",
    "\n",
    "add_stat_annotation(ax, data=data, x=\"variable\", y=\"value\",\n",
    "                   box_pairs=list(itertools.combinations(list(k3_summ_df)[:4],2)),\n",
    "                   test='Mann-Whitney', text_format='simple', verbose=2, comparisons_correction=None)\n",
    "\n",
    "add_stat_annotation(ax, data=data, x=\"variable\", y=\"value\",\n",
    "                   box_pairs=list(itertools.combinations(list(k3_summ_df)[4:],2)),\n",
    "                   test='Mann-Whitney', text_format='simple', verbose=2, comparisons_correction=None);\n",
    "\n",
    "\n",
    "# ax.set_xlabel('\\nPairs from single species                                     '+\n",
    "#               'Trios from single species                                     Trios from pairs  '+\n",
    "#               '\\n\\n         Dataset and model',fontsize=15)\n",
    "# ax.set_ylabel('nRMSE',fontsize=20)\n",
    "# ax.yscale=('log')\n",
    "# ax.set_xticklabels(['Additive', 'Mean', 'Strongest',\n",
    "#                     'Additive', 'Mean', 'Strongest',\n",
    "#                     'Additive', 'Mean', 'Strongest',], fontsize=15)\n",
    "# # ax.tick_params(labelsize=20)\n",
    "# # ax.set_ylim(-5,4.5)\n",
    "# plt.tight_layout()\n",
    "# fig.savefig('FS7_bts.png')\n"
   ]
  },
  {
   "cell_type": "code",
   "execution_count": 79,
   "id": "cec69dab",
   "metadata": {
    "ExecuteTime": {
     "end_time": "2022-09-08T09:31:08.398327Z",
     "start_time": "2022-09-08T09:31:08.347611Z"
    }
   },
   "outputs": [],
   "source": [
    "k3_summ_df.to_csv('Data/Bootstrap_data/k3_summ_df.csv')"
   ]
  }
 ],
 "metadata": {
  "colab": {
   "name": "Bootstrapping_RMSEs.ipynb",
   "provenance": []
  },
  "kernelspec": {
   "display_name": "Python 3",
   "language": "python",
   "name": "python3"
  },
  "language_info": {
   "codemirror_mode": {
    "name": "ipython",
    "version": 3
   },
   "file_extension": ".py",
   "mimetype": "text/x-python",
   "name": "python",
   "nbconvert_exporter": "python",
   "pygments_lexer": "ipython3",
   "version": "3.8.8"
  },
  "toc": {
   "base_numbering": 1,
   "nav_menu": {},
   "number_sections": true,
   "sideBar": true,
   "skip_h1_title": false,
   "title_cell": "Table of Contents",
   "title_sidebar": "Contents",
   "toc_cell": false,
   "toc_position": {
    "height": "1215px",
    "left": "262px",
    "top": "111.125px",
    "width": "212px"
   },
   "toc_section_display": true,
   "toc_window_display": true
  }
 },
 "nbformat": 4,
 "nbformat_minor": 5
}
