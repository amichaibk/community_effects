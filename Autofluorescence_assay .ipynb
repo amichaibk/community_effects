{
 "cells": [
  {
   "cell_type": "markdown",
   "id": "56f5406a",
   "metadata": {},
   "source": [
    "# Import libraries "
   ]
  },
  {
   "cell_type": "code",
   "execution_count": 1,
   "id": "e81672a3",
   "metadata": {
    "ExecuteTime": {
     "end_time": "2023-03-30T13:45:40.403623Z",
     "start_time": "2023-03-30T13:45:38.651668Z"
    }
   },
   "outputs": [
    {
     "name": "stdout",
     "output_type": "stream",
     "text": [
      "Populating the interactive namespace from numpy and matplotlib\n"
     ]
    }
   ],
   "source": [
    "%pylab inline\n",
    "import scipy as sp\n",
    "import numpy as np\n",
    "import pandas as pd\n",
    "import seaborn as sns\n",
    "import matplotlib as mpl\n",
    "import matplotlib.pyplot as plt\n",
    "import matplotlib.lines as mlines\n",
    "import matplotlib.colors as mcolors\n",
    "import pylab as pl\n",
    "\n",
    "from matplotlib.colors import LogNorm, Normalize\n",
    "from mpl_toolkits import mplot3d\n",
    "from sklearn.metrics import mean_squared_error\n",
    "from statannot import add_stat_annotation\n",
    "\n",
    "import warnings\n",
    "import itertools\n",
    "\n"
   ]
  },
  {
   "cell_type": "code",
   "execution_count": 3,
   "id": "8ac274c8",
   "metadata": {
    "ExecuteTime": {
     "end_time": "2023-03-30T13:46:03.796630Z",
     "start_time": "2023-03-30T13:45:55.804431Z"
    },
    "scrolled": true
   },
   "outputs": [],
   "source": [
    "phylo=pd.read_excel('Data/Strains.xlsx')\n",
    "\n",
    "phylo_dict=dict(zip(phylo['Sample Name'],phylo['Identifier']))\n",
    "phylo_dict['RP1_A']='R_planticola1'\n",
    "phylo_dict['RP1_B']='R_planticola1'\n"
   ]
  },
  {
   "cell_type": "markdown",
   "id": "3d7015c6",
   "metadata": {},
   "source": [
    "# K2: singles and pair effect experiment\n",
    "## Setup\n",
    "### Create lists of sample types for later use  "
   ]
  },
  {
   "cell_type": "code",
   "execution_count": 4,
   "id": "758626a4",
   "metadata": {
    "ExecuteTime": {
     "end_time": "2023-03-30T13:46:03.804768Z",
     "start_time": "2023-03-30T13:46:03.796630Z"
    }
   },
   "outputs": [],
   "source": [
    "isolates=['CB2',  'EC1', 'EC10', 'EC11', 'EC12','EC14', \n",
    "          'EC16','EC17', 'EC18', 'EC9', 'Gh11','Gh12','Gh16',\n",
    "          'Gh22', 'Gh24','Gh28', 'Gh29', 'Gh30', 'Gh35', 'Gh36','Gh38',\n",
    "          'Gh40', 'Gh43', 'Gh44', 'Gh50', 'Gh54', 'Gh59', 'Gh60','Gh61',\n",
    "          'Gh62', 'Gh67', 'Gh68', 'Gh9','KA', 'LA', 'OGI19-L','OGI33-L',\n",
    "          'Og122', 'Og84', 'Og85', 'Og87', 'Og90','Og92', 'PAg3', \n",
    "          'PAl', 'PH', 'PK', 'PP', 'ParPR2', 'RP1_A','RP1_B', \n",
    "          'RP2', 'SF1', 'SF2', 'Ut12', 'Ut14', 'Ut22']\n",
    "\n",
    "focals=  ['EColi_gfp','EA_gfp','RP1_gfp','PAg1_gfp','BI_gfp','CF_gfp']\n",
    "\n",
    "unlabled_focals= ['Ecoli', 'EA', 'RP1', 'PAg1','BI','CF',]\n",
    "\n",
    "blanks= ['Blank1','Blank2','Blank3','Blank4','Blank5', 'Blank']\n",
    "\n",
    "timepoints=['t0','t1']"
   ]
  },
  {
   "cell_type": "markdown",
   "id": "ad5f382c",
   "metadata": {},
   "source": [
    "### Load and orginze data"
   ]
  },
  {
   "cell_type": "code",
   "execution_count": 13,
   "id": "10615219",
   "metadata": {
    "ExecuteTime": {
     "end_time": "2023-03-30T13:46:58.636748Z",
     "start_time": "2023-03-30T13:46:58.173435Z"
    }
   },
   "outputs": [],
   "source": [
    "chips_dict={}\n",
    "\n",
    "chips_dict['c1']=pd.read_csv('Data/Autofluoresence_assay/chip1.csv')\n",
    "chips_dict['c2']=pd.read_csv('Data/Autofluoresence_assay/chip2.csv')\n",
    "\n",
    "\n",
    "chips_dict['c1']=chips_dict['c1'][['Hash','Label_left','Label_right','t0_norm2','t1_norm2',\n",
    "                                   't0_Area','t1_Area','Total']]\n",
    "chips_dict['c1']=chips_dict['c1'].rename(columns={'Label_left':'sample1','Label_right':'sample2','t0_norm2':'t0',\n",
    "                                                  't1_norm2':'t1'})\n",
    "\n",
    "chips_dict['c2']=chips_dict['c2'][['Hash','Label_left','Label_right','t0_norm2','t1_norm2',\n",
    "                                   't0_Area','t1_Area','Total']]\n",
    "chips_dict['c2']=chips_dict['c2'].rename(columns={'Label_left':'sample1','Label_right':'sample2','t0_norm2':'t0',\n",
    "                                                  't1_norm2':'t1'})"
   ]
  },
  {
   "cell_type": "markdown",
   "id": "75f44e08",
   "metadata": {},
   "source": [
    "## Normalize Data\n",
    "- Subtract t0 value for each well individually\n",
    "    - so we are measuring added biomass\n"
   ]
  },
  {
   "cell_type": "code",
   "execution_count": 6,
   "id": "3c528c4c",
   "metadata": {
    "ExecuteTime": {
     "end_time": "2023-03-30T13:46:04.290115Z",
     "start_time": "2023-03-30T13:46:04.271227Z"
    }
   },
   "outputs": [],
   "source": [
    "n_chips_dict={}\n",
    "for chip in chips_dict:\n",
    "    df=chips_dict[chip].copy()\n",
    "\n",
    "    #normalize each well to its own starting value\n",
    "    df.t1=df.t1-df.t0\n",
    "    \n",
    "    #ensure no negative values or zero to avoid inf values later on\n",
    "    df[timepoints]=df[timepoints].clip(lower=1)\n",
    "     \n",
    "    n_chips_dict[chip]=df"
   ]
  },
  {
   "cell_type": "markdown",
   "id": "9956e8d8",
   "metadata": {},
   "source": [
    "## Calculate effects"
   ]
  },
  {
   "cell_type": "code",
   "execution_count": 7,
   "id": "43c27246",
   "metadata": {
    "ExecuteTime": {
     "end_time": "2023-03-30T13:46:04.369932Z",
     "start_time": "2023-03-30T13:46:04.292121Z"
    }
   },
   "outputs": [],
   "source": [
    "warnings.filterwarnings(\"ignore\")\n",
    "k2_effects_dict={}\n",
    "\n",
    "for chip in list(n_chips_dict.keys()):\n",
    "    tp='t1'\n",
    "    data=n_chips_dict[chip].copy()\n",
    "    data[['sample1', 'sample2']]=data[['sample1', 'sample2']].replace({'RP1_A':'RP1','RP1_B':'RP1',\n",
    "                                                                       'Blank1':'Blank','Blank2':'Blank',\n",
    "                                                                       'Blank3':'Blank','Blank4':'Blank',\n",
    "                                                                       'Blank5':'Blank',})\n",
    "    \n",
    "        \n",
    "     #get data for pair\n",
    "    effect_data=data.groupby(['sample1', 'sample2'],\n",
    "                             as_index=False)[tp].median()\n",
    "    \n",
    "    effect_data['Count']=data.groupby(['sample1', 'sample2'],\n",
    "                                      as_index=False)[tp].count()[tp]\n",
    "\n",
    "    effect_data['STE']=data.groupby(['sample1', 'sample2'],\n",
    "                                      as_index=False)[tp].sem()[tp]\n",
    "\n",
    "    k2_effects_dict[chip]=effect_data\n"
   ]
  },
  {
   "cell_type": "code",
   "execution_count": 8,
   "id": "719674a7",
   "metadata": {
    "ExecuteTime": {
     "end_time": "2023-03-30T13:46:04.487633Z",
     "start_time": "2023-03-30T13:46:04.371505Z"
    },
    "scrolled": false
   },
   "outputs": [],
   "source": [
    "all_data=k2_effects_dict['c1'].append(k2_effects_dict['c2'])\n",
    "\n",
    "ulf_df=all_data.pivot_table (index='sample1', columns='sample2', \n",
    "                             values='t1', fill_value=0)\n",
    "for i in ulf_df.index:\n",
    "    for ii in list(ulf_df):\n",
    "        if ulf_df.at[i,ii]==0:\n",
    "            ulf_df.at[i,ii]=ulf_df.at[ii,i]\n",
    "        elif ulf_df.at[ii,i]==0:\n",
    "             ulf_df.at[ii,i]=ulf_df.at[i,ii]\n",
    "        else: continue \n",
    "\n",
    "ulf_df=ulf_df[unlabled_focals].drop(index=focals+['Og85']).rename(columns={'Ecoli':'EColi'})"
   ]
  },
  {
   "cell_type": "code",
   "execution_count": 9,
   "id": "7a455447",
   "metadata": {
    "ExecuteTime": {
     "end_time": "2023-03-30T13:46:04.503192Z",
     "start_time": "2023-03-30T13:46:04.489659Z"
    }
   },
   "outputs": [],
   "source": [
    "monos_dic={}\n",
    "for chip in n_chips_dict:\n",
    "    monos_dic[chip]=n_chips_dict[chip][n_chips_dict[chip].sample1==n_chips_dict[chip].sample2]"
   ]
  },
  {
   "cell_type": "code",
   "execution_count": 11,
   "id": "80879210",
   "metadata": {
    "ExecuteTime": {
     "end_time": "2023-03-30T13:46:04.641117Z",
     "start_time": "2023-03-30T13:46:04.625477Z"
    }
   },
   "outputs": [],
   "source": [
    "focal_monos=all_data[(all_data.sample1.isin(focals)) &\n",
    "          (all_data.sample1==all_data.sample2)].groupby('sample1').median()['t1'].to_dict()\n",
    "\n",
    "iso_monos=(monos_dic['c1'].append(monos_dic['c2'])).groupby('sample1').median()['t1'].to_dict()\n",
    "\n",
    "usable_isos_dic={}\n",
    "for f in focals:\n",
    "    usable_isos=[]\n",
    "    for i in iso_monos:\n",
    "        if (focal_monos[f]/5)>iso_monos[i]:\n",
    "            usable_isos.append(i)\n",
    "    usable_isos_dic[f]=usable_isos"
   ]
  },
  {
   "cell_type": "code",
   "execution_count": 12,
   "id": "9de761e7",
   "metadata": {
    "ExecuteTime": {
     "end_time": "2023-03-30T13:46:04.676046Z",
     "start_time": "2023-03-30T13:46:04.642116Z"
    },
    "scrolled": true
   },
   "outputs": [],
   "source": [
    "(pd.DataFrame(dict([ (k,pd.Series(v)) for k,v in usable_isos_dic.items()]))\n",
    " .to_csv('usable_isos_per_target.csv'))"
   ]
  }
 ],
 "metadata": {
  "kernelspec": {
   "display_name": "Python 3",
   "language": "python",
   "name": "python3"
  },
  "language_info": {
   "codemirror_mode": {
    "name": "ipython",
    "version": 3
   },
   "file_extension": ".py",
   "mimetype": "text/x-python",
   "name": "python",
   "nbconvert_exporter": "python",
   "pygments_lexer": "ipython3",
   "version": "3.8.8"
  },
  "toc": {
   "base_numbering": 1,
   "nav_menu": {},
   "number_sections": true,
   "sideBar": true,
   "skip_h1_title": false,
   "title_cell": "Table of Contents",
   "title_sidebar": "Contents",
   "toc_cell": false,
   "toc_position": {
    "height": "calc(100% - 180px)",
    "left": "10px",
    "top": "150px",
    "width": "249px"
   },
   "toc_section_display": true,
   "toc_window_display": true
  }
 },
 "nbformat": 4,
 "nbformat_minor": 5
}
